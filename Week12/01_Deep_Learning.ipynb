{
 "cells": [
  {
   "cell_type": "markdown",
   "metadata": {},
   "source": [
    "### Deep Learning\n",
    "\n",
    "**Roberto dos Reis**<br>\n",
    "\n",
    "Northwestern University\n",
    "\n",
    "July/2020"
   ]
  },
  {
   "cell_type": "code",
   "execution_count": 2,
   "metadata": {},
   "outputs": [],
   "source": [
    "# Set the seed value for the notebook so the results are reproducible\n",
    "from numpy.random import seed\n",
    "seed(1)"
   ]
  },
  {
   "cell_type": "code",
   "execution_count": 3,
   "metadata": {},
   "outputs": [],
   "source": [
    "%matplotlib inline\n",
    "import matplotlib.pyplot as plt\n",
    "import numpy as np\n",
    "import sklearn\n",
    "import sklearn.datasets"
   ]
  },
  {
   "cell_type": "code",
   "execution_count": 4,
   "metadata": {},
   "outputs": [],
   "source": [
    "# Create Data\n",
    "X, y = sklearn.datasets.make_circles(noise=0.05, factor=.2, random_state=1)"
   ]
  },
  {
   "cell_type": "code",
   "execution_count": 5,
   "metadata": {},
   "outputs": [
    {
     "data": {
      "text/plain": [
       "<matplotlib.collections.PathCollection at 0x1e0ab8b8748>"
      ]
     },
     "execution_count": 5,
     "metadata": {},
     "output_type": "execute_result"
    },
    {
     "data": {
      "image/png": "[encoded data removed]",
      "text/plain": [
       "<Figure size 432x288 with 1 Axes>"
      ]
     },
     "metadata": {
      "needs_background": "light"
     },
     "output_type": "display_data"
    }
   ],
   "source": [
    "# Visualize Data\n",
    "plt.scatter(X[:, 0], X[:, 1], c=y)"
   ]
  },
  {
   "cell_type": "code",
   "execution_count": 6,
   "metadata": {
    "nbgrader": {
     "grade": false,
     "grade_id": "cell-25fb99ba413a3271",
     "locked": false,
     "schema_version": 1,
     "solution": true
    }
   },
   "outputs": [],
   "source": [
    "# Use train_test_split to create training and testing data\n",
    "from sklearn.model_selection import train_test_split\n",
    "\n",
    "X_train, X_test, y_train, y_test = train_test_split(X, y, random_state=1)"
   ]
  },
  {
   "cell_type": "code",
   "execution_count": 7,
   "metadata": {
    "nbgrader": {
     "grade": false,
     "grade_id": "cell-7e1de5d9b7942f68",
     "locked": false,
     "schema_version": 1,
     "solution": true
    }
   },
   "outputs": [],
   "source": [
    "from sklearn.preprocessing import StandardScaler\n",
    "\n",
    "# Create a StandardScater model and fit it to the training data\n",
    "X_scaler = StandardScaler().fit(X_train)"
   ]
  },
  {
   "cell_type": "code",
   "execution_count": 8,
   "metadata": {
    "nbgrader": {
     "grade": false,
     "grade_id": "cell-9532e12246e485d5",
     "locked": false,
     "schema_version": 1,
     "solution": true
    }
   },
   "outputs": [],
   "source": [
    "# Transform the training and testing data using the X_scaler\n",
    "\n",
    "X_train_scaled = X_scaler.transform(X_train)\n",
    "X_test_scaled = X_scaler.transform(X_test)"
   ]
  },
  {
   "cell_type": "code",
   "execution_count": 10,
   "metadata": {},
   "outputs": [
    {
     "name": "stdout",
     "output_type": "stream",
     "text": [
      "Collecting tensorflow\n",
      "  Downloading tensorflow-2.2.0-cp37-cp37m-win_amd64.whl (459.2 MB)\n",
      "Collecting grpcio>=1.8.6\n",
      "  Downloading grpcio-1.30.0-cp37-cp37m-win_amd64.whl (2.3 MB)\n",
      "Collecting protobuf>=3.8.0\n",
      "  Downloading protobuf-3.12.2-cp37-cp37m-win_amd64.whl (1.0 MB)\n",
      "Collecting tensorflow-estimator<2.3.0,>=2.2.0\n",
      "  Downloading tensorflow_estimator-2.2.0-py2.py3-none-any.whl (454 kB)\n",
      "Requirement already satisfied: numpy<2.0,>=1.16.0 in c:\\programdata\\anaconda3\\envs\\advem\\lib\\site-packages (from tensorflow) (1.18.1)\n",
      "Collecting google-pasta>=0.1.8\n",
      "  Downloading google_pasta-0.2.0-py3-none-any.whl (57 kB)\n",
      "Processing c:\\users\\roberto\\appdata\\local\\pip\\cache\\wheels\\8e\\28\\49\\fad4e7f0b9a1227708cbbee4487ac8558a7334849cb81c813d\\absl_py-0.9.0-cp37-none-any.whl\n",
      "Collecting tensorboard<2.3.0,>=2.2.0\n",
      "  Downloading tensorboard-2.2.2-py3-none-any.whl (3.0 MB)\n",
      "Requirement already satisfied: six>=1.12.0 in c:\\programdata\\anaconda3\\envs\\advem\\lib\\site-packages (from tensorflow) (1.15.0)\n",
      "Collecting opt-einsum>=2.3.2\n",
      "  Downloading opt_einsum-3.2.1-py3-none-any.whl (63 kB)\n",
      "Requirement already satisfied: h5py<2.11.0,>=2.10.0 in c:\\programdata\\anaconda3\\envs\\advem\\lib\\site-packages (from tensorflow) (2.10.0)\n",
      "Requirement already satisfied: wrapt>=1.11.1 in c:\\programdata\\anaconda3\\envs\\advem\\lib\\site-packages (from tensorflow) (1.11.2)\n",
      "Requirement already satisfied: scipy==1.4.1; python_version >= \"3\" in c:\\programdata\\anaconda3\\envs\\advem\\lib\\site-packages (from tensorflow) (1.4.1)\n",
      "Requirement already satisfied: wheel>=0.26; python_version >= \"3\" in c:\\programdata\\anaconda3\\envs\\advem\\lib\\site-packages (from tensorflow) (0.34.2)\n",
      "Collecting gast==0.3.3\n",
      "  Downloading gast-0.3.3-py2.py3-none-any.whl (9.7 kB)\n",
      "Collecting astunparse==1.6.3\n",
      "  Downloading astunparse-1.6.3-py2.py3-none-any.whl (12 kB)\n",
      "Collecting keras-preprocessing>=1.1.0\n",
      "  Downloading Keras_Preprocessing-1.1.2-py2.py3-none-any.whl (42 kB)\n",
      "Processing c:\\users\\roberto\\appdata\\local\\pip\\cache\\wheels\\7c\\06\\54\\bc84598ba1daf8f970247f550b175aaaee85f68b4b0c5ab2c6\\termcolor-1.1.0-cp37-none-any.whl\n",
      "Requirement already satisfied: setuptools in c:\\programdata\\anaconda3\\envs\\advem\\lib\\site-packages (from protobuf>=3.8.0->tensorflow) (46.4.0.post20200518)\n",
      "Requirement already satisfied: werkzeug>=0.11.15 in c:\\programdata\\anaconda3\\envs\\advem\\lib\\site-packages (from tensorboard<2.3.0,>=2.2.0->tensorflow) (1.0.1)\n",
      "Requirement already satisfied: requests<3,>=2.21.0 in c:\\programdata\\anaconda3\\envs\\advem\\lib\\site-packages (from tensorboard<2.3.0,>=2.2.0->tensorflow) (2.23.0)\n",
      "Collecting google-auth<2,>=1.6.3\n",
      "  Downloading google_auth-1.18.0-py2.py3-none-any.whl (90 kB)\n",
      "Collecting tensorboard-plugin-wit>=1.6.0\n",
      "  Downloading tensorboard_plugin_wit-1.7.0-py3-none-any.whl (779 kB)\n",
      "Collecting google-auth-oauthlib<0.5,>=0.4.1\n",
      "  Using cached google_auth_oauthlib-0.4.1-py2.py3-none-any.whl (18 kB)\n",
      "Collecting markdown>=2.6.8\n",
      "  Downloading Markdown-3.2.2-py3-none-any.whl (88 kB)\n",
      "Requirement already satisfied: chardet<4,>=3.0.2 in c:\\programdata\\anaconda3\\envs\\advem\\lib\\site-packages (from requests<3,>=2.21.0->tensorboard<2.3.0,>=2.2.0->tensorflow) (3.0.4)\n",
      "Requirement already satisfied: idna<3,>=2.5 in c:\\programdata\\anaconda3\\envs\\advem\\lib\\site-packages (from requests<3,>=2.21.0->tensorboard<2.3.0,>=2.2.0->tensorflow) (2.9)\n",
      "Requirement already satisfied: urllib3!=1.25.0,!=1.25.1,<1.26,>=1.21.1 in c:\\programdata\\anaconda3\\envs\\advem\\lib\\site-packages (from requests<3,>=2.21.0->tensorboard<2.3.0,>=2.2.0->tensorflow) (1.25.9)\n",
      "Requirement already satisfied: certifi>=2017.4.17 in c:\\programdata\\anaconda3\\envs\\advem\\lib\\site-packages (from requests<3,>=2.21.0->tensorboard<2.3.0,>=2.2.0->tensorflow) (2020.6.20)\n",
      "Requirement already satisfied: pyasn1-modules>=0.2.1 in c:\\programdata\\anaconda3\\envs\\advem\\lib\\site-packages (from google-auth<2,>=1.6.3->tensorboard<2.3.0,>=2.2.0->tensorflow) (0.2.7)\n",
      "Collecting cachetools<5.0,>=2.0.0\n",
      "  Downloading cachetools-4.1.1-py3-none-any.whl (10 kB)\n",
      "Collecting rsa<5,>=3.1.4; python_version >= \"3\"\n",
      "  Downloading rsa-4.6-py3-none-any.whl (47 kB)\n",
      "Collecting requests-oauthlib>=0.7.0\n",
      "  Using cached requests_oauthlib-1.3.0-py2.py3-none-any.whl (23 kB)\n",
      "Requirement already satisfied: importlib-metadata; python_version < \"3.8\" in c:\\programdata\\anaconda3\\envs\\advem\\lib\\site-packages (from markdown>=2.6.8->tensorboard<2.3.0,>=2.2.0->tensorflow) (1.6.0)\n",
      "Requirement already satisfied: pyasn1<0.5.0,>=0.4.6 in c:\\programdata\\anaconda3\\envs\\advem\\lib\\site-packages (from pyasn1-modules>=0.2.1->google-auth<2,>=1.6.3->tensorboard<2.3.0,>=2.2.0->tensorflow) (0.4.7)\n",
      "Collecting oauthlib>=3.0.0\n",
      "  Using cached oauthlib-3.1.0-py2.py3-none-any.whl (147 kB)\n",
      "Requirement already satisfied: zipp>=0.5 in c:\\programdata\\anaconda3\\envs\\advem\\lib\\site-packages (from importlib-metadata; python_version < \"3.8\"->markdown>=2.6.8->tensorboard<2.3.0,>=2.2.0->tensorflow) (3.1.0)\n",
      "Installing collected packages: grpcio, protobuf, tensorflow-estimator, google-pasta, absl-py, cachetools, rsa, google-auth, tensorboard-plugin-wit, oauthlib, requests-oauthlib, google-auth-oauthlib, markdown, tensorboard, opt-einsum, gast, astunparse, keras-preprocessing, termcolor, tensorflow\n",
      "Successfully installed absl-py-0.9.0 astunparse-1.6.3 cachetools-4.1.1 gast-0.3.3 google-auth-1.18.0 google-auth-oauthlib-0.4.1 google-pasta-0.2.0 grpcio-1.30.0 keras-preprocessing-1.1.2 markdown-3.2.2 oauthlib-3.1.0 opt-einsum-3.2.1 protobuf-3.12.2 requests-oauthlib-1.3.0 rsa-4.6 tensorboard-2.2.2 tensorboard-plugin-wit-1.7.0 tensorflow-2.2.0 tensorflow-estimator-2.2.0 termcolor-1.1.0\n"
     ]
    }
   ],
   "source": [
    "!pip install tensorflow"
   ]
  },
  {
   "cell_type": "code",
   "execution_count": 11,
   "metadata": {},
   "outputs": [],
   "source": [
    "from tensorflow.keras.utils import to_categorical"
   ]
  },
  {
   "cell_type": "code",
   "execution_count": 12,
   "metadata": {},
   "outputs": [],
   "source": [
    "# One-hot encoding\n",
    "y_train_categorical = to_categorical(y_train)\n",
    "y_test_categorical = to_categorical(y_test)"
   ]
  },
  {
   "cell_type": "code",
   "execution_count": 13,
   "metadata": {
    "nbgrader": {
     "grade": false,
     "grade_id": "cell-ec399a95e133cb58",
     "locked": false,
     "schema_version": 1,
     "solution": true
    }
   },
   "outputs": [],
   "source": [
    "# first, create a normal neural network with 2 inputs, 6 hidden nodes, and 2 outputs\n",
    "from tensorflow.keras.models import Sequential\n",
    "from tensorflow.keras.layers import Dense\n",
    "\n",
    "model = Sequential()\n",
    "model.add(Dense(units=6, activation='tanh', input_dim=2))\n",
    "model.add(Dense(units=2, activation='softmax'))"
   ]
  },
  {
   "cell_type": "code",
   "execution_count": 14,
   "metadata": {},
   "outputs": [
    {
     "name": "stdout",
     "output_type": "stream",
     "text": [
      "Model: \"sequential\"\n",
      "_________________________________________________________________\n",
      "Layer (type)                 Output Shape              Param #   \n",
      "=================================================================\n",
      "dense (Dense)                (None, 6)                 18        \n",
      "_________________________________________________________________\n",
      "dense_1 (Dense)              (None, 2)                 14        \n",
      "=================================================================\n",
      "Total params: 32\n",
      "Trainable params: 32\n",
      "Non-trainable params: 0\n",
      "_________________________________________________________________\n"
     ]
    }
   ],
   "source": [
    "model.summary()"
   ]
  },
  {
   "cell_type": "code",
   "execution_count": 15,
   "metadata": {},
   "outputs": [],
   "source": [
    "# Compile the model\n",
    "model.compile(optimizer='Adam',\n",
    "              loss='categorical_crossentropy',\n",
    "              metrics=['accuracy'])"
   ]
  },
  {
   "cell_type": "code",
   "execution_count": 16,
   "metadata": {
    "nbgrader": {
     "grade": false,
     "grade_id": "cell-5cf2fbdbea0ed50b",
     "locked": false,
     "schema_version": 1,
     "solution": true
    }
   },
   "outputs": [
    {
     "name": "stdout",
     "output_type": "stream",
     "text": [
      "Epoch 1/100\n",
      "3/3 - 0s - loss: 0.9697 - accuracy: 0.4400\n",
      "Epoch 2/100\n",
      "3/3 - 0s - loss: 0.9631 - accuracy: 0.4400\n",
      "Epoch 3/100\n",
      "3/3 - 0s - loss: 0.9563 - accuracy: 0.4400\n",
      "Epoch 4/100\n",
      "3/3 - 0s - loss: 0.9502 - accuracy: 0.4400\n",
      "Epoch 5/100\n",
      "3/3 - 0s - loss: 0.9436 - accuracy: 0.4400\n",
      "Epoch 6/100\n",
      "3/3 - 0s - loss: 0.9378 - accuracy: 0.4400\n",
      "Epoch 7/100\n",
      "3/3 - 0s - loss: 0.9310 - accuracy: 0.4533\n",
      "Epoch 8/100\n",
      "3/3 - 0s - loss: 0.9259 - accuracy: 0.4533\n",
      "Epoch 9/100\n",
      "3/3 - 0s - loss: 0.9194 - accuracy: 0.4667\n",
      "Epoch 10/100\n",
      "3/3 - 0s - loss: 0.9137 - accuracy: 0.4667\n",
      "Epoch 11/100\n",
      "3/3 - 0s - loss: 0.9086 - accuracy: 0.4667\n",
      "Epoch 12/100\n",
      "3/3 - 0s - loss: 0.9026 - accuracy: 0.4667\n",
      "Epoch 13/100\n",
      "3/3 - 0s - loss: 0.8969 - accuracy: 0.4667\n",
      "Epoch 14/100\n",
      "3/3 - 0s - loss: 0.8911 - accuracy: 0.4667\n",
      "Epoch 15/100\n",
      "3/3 - 0s - loss: 0.8859 - accuracy: 0.4667\n",
      "Epoch 16/100\n",
      "3/3 - 0s - loss: 0.8803 - accuracy: 0.4667\n",
      "Epoch 17/100\n",
      "3/3 - 0s - loss: 0.8756 - accuracy: 0.4667\n",
      "Epoch 18/100\n",
      "3/3 - 0s - loss: 0.8700 - accuracy: 0.4800\n",
      "Epoch 19/100\n",
      "3/3 - 0s - loss: 0.8646 - accuracy: 0.4800\n",
      "Epoch 20/100\n",
      "3/3 - 0s - loss: 0.8596 - accuracy: 0.4800\n",
      "Epoch 21/100\n",
      "3/3 - 0s - loss: 0.8541 - accuracy: 0.4800\n",
      "Epoch 22/100\n",
      "3/3 - 0s - loss: 0.8500 - accuracy: 0.4667\n",
      "Epoch 23/100\n",
      "3/3 - 0s - loss: 0.8451 - accuracy: 0.4667\n",
      "Epoch 24/100\n",
      "3/3 - 0s - loss: 0.8401 - accuracy: 0.4667\n",
      "Epoch 25/100\n",
      "3/3 - 0s - loss: 0.8351 - accuracy: 0.4800\n",
      "Epoch 26/100\n",
      "3/3 - 0s - loss: 0.8309 - accuracy: 0.4800\n",
      "Epoch 27/100\n",
      "3/3 - 0s - loss: 0.8264 - accuracy: 0.4800\n",
      "Epoch 28/100\n",
      "3/3 - 0s - loss: 0.8219 - accuracy: 0.4800\n",
      "Epoch 29/100\n",
      "3/3 - 0s - loss: 0.8184 - accuracy: 0.4800\n",
      "Epoch 30/100\n",
      "3/3 - 0s - loss: 0.8140 - accuracy: 0.4800\n",
      "Epoch 31/100\n",
      "3/3 - 0s - loss: 0.8095 - accuracy: 0.4800\n",
      "Epoch 32/100\n",
      "3/3 - 0s - loss: 0.8064 - accuracy: 0.5067\n",
      "Epoch 33/100\n",
      "3/3 - 0s - loss: 0.8022 - accuracy: 0.5067\n",
      "Epoch 34/100\n",
      "3/3 - 0s - loss: 0.7983 - accuracy: 0.5200\n",
      "Epoch 35/100\n",
      "3/3 - 0s - loss: 0.7951 - accuracy: 0.5200\n",
      "Epoch 36/100\n",
      "3/3 - 0s - loss: 0.7917 - accuracy: 0.5200\n",
      "Epoch 37/100\n",
      "3/3 - 0s - loss: 0.7881 - accuracy: 0.5200\n",
      "Epoch 38/100\n",
      "3/3 - 0s - loss: 0.7847 - accuracy: 0.5200\n",
      "Epoch 39/100\n",
      "3/3 - 0s - loss: 0.7815 - accuracy: 0.5200\n",
      "Epoch 40/100\n",
      "3/3 - 0s - loss: 0.7786 - accuracy: 0.5200\n",
      "Epoch 41/100\n",
      "3/3 - 0s - loss: 0.7753 - accuracy: 0.5333\n",
      "Epoch 42/100\n",
      "3/3 - 0s - loss: 0.7718 - accuracy: 0.5467\n",
      "Epoch 43/100\n",
      "3/3 - 0s - loss: 0.7690 - accuracy: 0.5333\n",
      "Epoch 44/100\n",
      "3/3 - 0s - loss: 0.7661 - accuracy: 0.5333\n",
      "Epoch 45/100\n",
      "3/3 - 0s - loss: 0.7629 - accuracy: 0.5333\n",
      "Epoch 46/100\n",
      "3/3 - 0s - loss: 0.7598 - accuracy: 0.5467\n",
      "Epoch 47/100\n",
      "3/3 - 0s - loss: 0.7564 - accuracy: 0.5467\n",
      "Epoch 48/100\n",
      "3/3 - 0s - loss: 0.7534 - accuracy: 0.5467\n",
      "Epoch 49/100\n",
      "3/3 - 0s - loss: 0.7502 - accuracy: 0.5467\n",
      "Epoch 50/100\n",
      "3/3 - 0s - loss: 0.7472 - accuracy: 0.5467\n",
      "Epoch 51/100\n",
      "3/3 - 0s - loss: 0.7443 - accuracy: 0.5467\n",
      "Epoch 52/100\n",
      "3/3 - 0s - loss: 0.7414 - accuracy: 0.5467\n",
      "Epoch 53/100\n",
      "3/3 - 0s - loss: 0.7382 - accuracy: 0.5467\n",
      "Epoch 54/100\n",
      "3/3 - 0s - loss: 0.7354 - accuracy: 0.5467\n",
      "Epoch 55/100\n",
      "3/3 - 0s - loss: 0.7331 - accuracy: 0.5733\n",
      "Epoch 56/100\n",
      "3/3 - 0s - loss: 0.7307 - accuracy: 0.5733\n",
      "Epoch 57/100\n",
      "3/3 - 0s - loss: 0.7276 - accuracy: 0.5733\n",
      "Epoch 58/100\n",
      "3/3 - 0s - loss: 0.7256 - accuracy: 0.5733\n",
      "Epoch 59/100\n",
      "3/3 - 0s - loss: 0.7233 - accuracy: 0.5867\n",
      "Epoch 60/100\n",
      "3/3 - 0s - loss: 0.7210 - accuracy: 0.5867\n",
      "Epoch 61/100\n",
      "3/3 - 0s - loss: 0.7187 - accuracy: 0.5867\n",
      "Epoch 62/100\n",
      "3/3 - 0s - loss: 0.7165 - accuracy: 0.6000\n",
      "Epoch 63/100\n",
      "3/3 - 0s - loss: 0.7146 - accuracy: 0.6000\n",
      "Epoch 64/100\n",
      "3/3 - 0s - loss: 0.7122 - accuracy: 0.6000\n",
      "Epoch 65/100\n",
      "3/3 - 0s - loss: 0.7101 - accuracy: 0.6000\n",
      "Epoch 66/100\n",
      "3/3 - 0s - loss: 0.7083 - accuracy: 0.6000\n",
      "Epoch 67/100\n",
      "3/3 - 0s - loss: 0.7060 - accuracy: 0.6000\n",
      "Epoch 68/100\n",
      "3/3 - 0s - loss: 0.7041 - accuracy: 0.6000\n",
      "Epoch 69/100\n",
      "3/3 - 0s - loss: 0.7021 - accuracy: 0.6000\n",
      "Epoch 70/100\n",
      "3/3 - 0s - loss: 0.7005 - accuracy: 0.6133\n",
      "Epoch 71/100\n",
      "3/3 - 0s - loss: 0.6987 - accuracy: 0.6133\n",
      "Epoch 72/100\n",
      "3/3 - 0s - loss: 0.6965 - accuracy: 0.6267\n",
      "Epoch 73/100\n",
      "3/3 - 0s - loss: 0.6946 - accuracy: 0.6267\n",
      "Epoch 74/100\n",
      "3/3 - 0s - loss: 0.6928 - accuracy: 0.6400\n",
      "Epoch 75/100\n",
      "3/3 - 0s - loss: 0.6915 - accuracy: 0.6667\n",
      "Epoch 76/100\n",
      "3/3 - 0s - loss: 0.6895 - accuracy: 0.6667\n",
      "Epoch 77/100\n",
      "3/3 - 0s - loss: 0.6881 - accuracy: 0.6667\n",
      "Epoch 78/100\n",
      "3/3 - 0s - loss: 0.6866 - accuracy: 0.6667\n",
      "Epoch 79/100\n",
      "3/3 - 0s - loss: 0.6852 - accuracy: 0.6800\n",
      "Epoch 80/100\n",
      "3/3 - 0s - loss: 0.6839 - accuracy: 0.6800\n",
      "Epoch 81/100\n",
      "3/3 - 0s - loss: 0.6827 - accuracy: 0.7067\n",
      "Epoch 82/100\n",
      "3/3 - 0s - loss: 0.6814 - accuracy: 0.7067\n",
      "Epoch 83/100\n",
      "3/3 - 0s - loss: 0.6802 - accuracy: 0.7200\n",
      "Epoch 84/100\n",
      "3/3 - 0s - loss: 0.6789 - accuracy: 0.7200\n",
      "Epoch 85/100\n",
      "3/3 - 0s - loss: 0.6778 - accuracy: 0.7200\n",
      "Epoch 86/100\n",
      "3/3 - 0s - loss: 0.6768 - accuracy: 0.7200\n",
      "Epoch 87/100\n",
      "3/3 - 0s - loss: 0.6754 - accuracy: 0.7200\n",
      "Epoch 88/100\n",
      "3/3 - 0s - loss: 0.6745 - accuracy: 0.7200\n",
      "Epoch 89/100\n",
      "3/3 - 0s - loss: 0.6732 - accuracy: 0.6933\n",
      "Epoch 90/100\n",
      "3/3 - 0s - loss: 0.6722 - accuracy: 0.6933\n",
      "Epoch 91/100\n",
      "3/3 - 0s - loss: 0.6712 - accuracy: 0.6933\n",
      "Epoch 92/100\n",
      "3/3 - 0s - loss: 0.6702 - accuracy: 0.6933\n",
      "Epoch 93/100\n",
      "3/3 - 0s - loss: 0.6690 - accuracy: 0.6800\n",
      "Epoch 94/100\n",
      "3/3 - 0s - loss: 0.6681 - accuracy: 0.6667\n",
      "Epoch 95/100\n",
      "3/3 - 0s - loss: 0.6672 - accuracy: 0.6667\n",
      "Epoch 96/100\n",
      "3/3 - 0s - loss: 0.6660 - accuracy: 0.6667\n",
      "Epoch 97/100\n",
      "3/3 - 0s - loss: 0.6651 - accuracy: 0.6533\n",
      "Epoch 98/100\n",
      "3/3 - 0s - loss: 0.6642 - accuracy: 0.6533\n",
      "Epoch 99/100\n",
      "3/3 - 0s - loss: 0.6634 - accuracy: 0.6533\n",
      "Epoch 100/100\n",
      "3/3 - 0s - loss: 0.6623 - accuracy: 0.6667\n"
     ]
    },
    {
     "data": {
      "text/plain": [
       "<tensorflow.python.keras.callbacks.History at 0x1e0b2b1f548>"
      ]
     },
     "execution_count": 16,
     "metadata": {},
     "output_type": "execute_result"
    }
   ],
   "source": [
    "# Fit the model to the training data\n",
    "model.fit(\n",
    "    X_train_scaled,\n",
    "    y_train_categorical,\n",
    "    epochs=100,\n",
    "    shuffle=True,\n",
    "    verbose=2\n",
    ")"
   ]
  },
  {
   "cell_type": "markdown",
   "metadata": {},
   "source": [
    "# Deep Learning\n",
    "For this network, we simply add an additional hidden layer of 6 nodes"
   ]
  },
  {
   "cell_type": "code",
   "execution_count": 17,
   "metadata": {},
   "outputs": [],
   "source": [
    "deep_model = Sequential()\n",
    "deep_model.add(Dense(units=6, activation='tanh', input_dim=2))\n",
    "deep_model.add(Dense(units=6, activation='tanh'))\n",
    "deep_model.add(Dense(units=2, activation='softmax'))"
   ]
  },
  {
   "cell_type": "code",
   "execution_count": 18,
   "metadata": {},
   "outputs": [
    {
     "name": "stdout",
     "output_type": "stream",
     "text": [
      "Model: \"sequential_1\"\n",
      "_________________________________________________________________\n",
      "Layer (type)                 Output Shape              Param #   \n",
      "=================================================================\n",
      "dense_2 (Dense)              (None, 6)                 18        \n",
      "_________________________________________________________________\n",
      "dense_3 (Dense)              (None, 6)                 42        \n",
      "_________________________________________________________________\n",
      "dense_4 (Dense)              (None, 2)                 14        \n",
      "=================================================================\n",
      "Total params: 74\n",
      "Trainable params: 74\n",
      "Non-trainable params: 0\n",
      "_________________________________________________________________\n"
     ]
    }
   ],
   "source": [
    "deep_model.summary()"
   ]
  },
  {
   "cell_type": "code",
   "execution_count": 19,
   "metadata": {},
   "outputs": [
    {
     "name": "stdout",
     "output_type": "stream",
     "text": [
      "Epoch 1/100\n",
      "3/3 - 0s - loss: 0.6915 - accuracy: 0.5600\n",
      "Epoch 2/100\n",
      "3/3 - 0s - loss: 0.6899 - accuracy: 0.5600\n",
      "Epoch 3/100\n",
      "3/3 - 0s - loss: 0.6881 - accuracy: 0.5733\n",
      "Epoch 4/100\n",
      "3/3 - 0s - loss: 0.6868 - accuracy: 0.5733\n",
      "Epoch 5/100\n",
      "3/3 - 0s - loss: 0.6856 - accuracy: 0.5867\n",
      "Epoch 6/100\n",
      "3/3 - 0s - loss: 0.6842 - accuracy: 0.5867\n",
      "Epoch 7/100\n",
      "3/3 - 0s - loss: 0.6826 - accuracy: 0.5867\n",
      "Epoch 8/100\n",
      "3/3 - 0s - loss: 0.6815 - accuracy: 0.5867\n",
      "Epoch 9/100\n",
      "3/3 - 0s - loss: 0.6801 - accuracy: 0.6133\n",
      "Epoch 10/100\n",
      "3/3 - 0s - loss: 0.6789 - accuracy: 0.6267\n",
      "Epoch 11/100\n",
      "3/3 - 0s - loss: 0.6776 - accuracy: 0.6267\n",
      "Epoch 12/100\n",
      "3/3 - 0s - loss: 0.6765 - accuracy: 0.6267\n",
      "Epoch 13/100\n",
      "3/3 - 0s - loss: 0.6753 - accuracy: 0.6400\n",
      "Epoch 14/100\n",
      "3/3 - 0s - loss: 0.6739 - accuracy: 0.6400\n",
      "Epoch 15/100\n",
      "3/3 - 0s - loss: 0.6728 - accuracy: 0.6667\n",
      "Epoch 16/100\n",
      "3/3 - 0s - loss: 0.6716 - accuracy: 0.6533\n",
      "Epoch 17/100\n",
      "3/3 - 0s - loss: 0.6707 - accuracy: 0.6933\n",
      "Epoch 18/100\n",
      "3/3 - 0s - loss: 0.6694 - accuracy: 0.7067\n",
      "Epoch 19/100\n",
      "3/3 - 0s - loss: 0.6681 - accuracy: 0.7067\n",
      "Epoch 20/100\n",
      "3/3 - 0s - loss: 0.6671 - accuracy: 0.7067\n",
      "Epoch 21/100\n",
      "3/3 - 0s - loss: 0.6659 - accuracy: 0.7333\n",
      "Epoch 22/100\n",
      "3/3 - 0s - loss: 0.6650 - accuracy: 0.7333\n",
      "Epoch 23/100\n",
      "3/3 - 0s - loss: 0.6638 - accuracy: 0.7333\n",
      "Epoch 24/100\n",
      "3/3 - 0s - loss: 0.6629 - accuracy: 0.7333\n",
      "Epoch 25/100\n",
      "3/3 - 0s - loss: 0.6617 - accuracy: 0.7333\n",
      "Epoch 26/100\n",
      "3/3 - 0s - loss: 0.6605 - accuracy: 0.7333\n",
      "Epoch 27/100\n",
      "3/3 - 0s - loss: 0.6596 - accuracy: 0.7333\n",
      "Epoch 28/100\n",
      "3/3 - 0s - loss: 0.6584 - accuracy: 0.7333\n",
      "Epoch 29/100\n",
      "3/3 - 0s - loss: 0.6572 - accuracy: 0.7333\n",
      "Epoch 30/100\n",
      "3/3 - 0s - loss: 0.6563 - accuracy: 0.7333\n",
      "Epoch 31/100\n",
      "3/3 - 0s - loss: 0.6550 - accuracy: 0.7333\n",
      "Epoch 32/100\n",
      "3/3 - 0s - loss: 0.6538 - accuracy: 0.7333\n",
      "Epoch 33/100\n",
      "3/3 - 0s - loss: 0.6527 - accuracy: 0.7333\n",
      "Epoch 34/100\n",
      "3/3 - 0s - loss: 0.6516 - accuracy: 0.7333\n",
      "Epoch 35/100\n",
      "3/3 - 0s - loss: 0.6504 - accuracy: 0.7333\n",
      "Epoch 36/100\n",
      "3/3 - 0s - loss: 0.6492 - accuracy: 0.7333\n",
      "Epoch 37/100\n",
      "3/3 - 0s - loss: 0.6481 - accuracy: 0.7333\n",
      "Epoch 38/100\n",
      "3/3 - 0s - loss: 0.6467 - accuracy: 0.7333\n",
      "Epoch 39/100\n",
      "3/3 - 0s - loss: 0.6455 - accuracy: 0.7333\n",
      "Epoch 40/100\n",
      "3/3 - 0s - loss: 0.6442 - accuracy: 0.7333\n",
      "Epoch 41/100\n",
      "3/3 - 0s - loss: 0.6430 - accuracy: 0.7333\n",
      "Epoch 42/100\n",
      "3/3 - 0s - loss: 0.6419 - accuracy: 0.7333\n",
      "Epoch 43/100\n",
      "3/3 - 0s - loss: 0.6404 - accuracy: 0.7333\n",
      "Epoch 44/100\n",
      "3/3 - 0s - loss: 0.6390 - accuracy: 0.7333\n",
      "Epoch 45/100\n",
      "3/3 - 0s - loss: 0.6376 - accuracy: 0.7333\n",
      "Epoch 46/100\n",
      "3/3 - 0s - loss: 0.6364 - accuracy: 0.7333\n",
      "Epoch 47/100\n",
      "3/3 - 0s - loss: 0.6350 - accuracy: 0.7333\n",
      "Epoch 48/100\n",
      "3/3 - 0s - loss: 0.6338 - accuracy: 0.7333\n",
      "Epoch 49/100\n",
      "3/3 - 0s - loss: 0.6323 - accuracy: 0.7333\n",
      "Epoch 50/100\n",
      "3/3 - 0s - loss: 0.6311 - accuracy: 0.7333\n",
      "Epoch 51/100\n",
      "3/3 - 0s - loss: 0.6296 - accuracy: 0.7333\n",
      "Epoch 52/100\n",
      "3/3 - 0s - loss: 0.6283 - accuracy: 0.7333\n",
      "Epoch 53/100\n",
      "3/3 - 0s - loss: 0.6269 - accuracy: 0.7333\n",
      "Epoch 54/100\n",
      "3/3 - 0s - loss: 0.6255 - accuracy: 0.7333\n",
      "Epoch 55/100\n",
      "3/3 - 0s - loss: 0.6240 - accuracy: 0.7467\n",
      "Epoch 56/100\n",
      "3/3 - 0s - loss: 0.6225 - accuracy: 0.7467\n",
      "Epoch 57/100\n",
      "3/3 - 0s - loss: 0.6211 - accuracy: 0.7333\n",
      "Epoch 58/100\n",
      "3/3 - 0s - loss: 0.6195 - accuracy: 0.7333\n",
      "Epoch 59/100\n",
      "3/3 - 0s - loss: 0.6179 - accuracy: 0.7333\n",
      "Epoch 60/100\n",
      "3/3 - 0s - loss: 0.6164 - accuracy: 0.7333\n",
      "Epoch 61/100\n",
      "3/3 - 0s - loss: 0.6149 - accuracy: 0.7333\n",
      "Epoch 62/100\n",
      "3/3 - 0s - loss: 0.6133 - accuracy: 0.7333\n",
      "Epoch 63/100\n",
      "3/3 - 0s - loss: 0.6116 - accuracy: 0.7333\n",
      "Epoch 64/100\n",
      "3/3 - 0s - loss: 0.6100 - accuracy: 0.7333\n",
      "Epoch 65/100\n",
      "3/3 - 0s - loss: 0.6084 - accuracy: 0.7333\n",
      "Epoch 66/100\n",
      "3/3 - 0s - loss: 0.6069 - accuracy: 0.7333\n",
      "Epoch 67/100\n",
      "3/3 - 0s - loss: 0.6052 - accuracy: 0.7333\n",
      "Epoch 68/100\n",
      "3/3 - 0s - loss: 0.6035 - accuracy: 0.7333\n",
      "Epoch 69/100\n",
      "3/3 - 0s - loss: 0.6020 - accuracy: 0.7333\n",
      "Epoch 70/100\n",
      "3/3 - 0s - loss: 0.6002 - accuracy: 0.7333\n",
      "Epoch 71/100\n",
      "3/3 - 0s - loss: 0.5985 - accuracy: 0.7333\n",
      "Epoch 72/100\n",
      "3/3 - 0s - loss: 0.5969 - accuracy: 0.7333\n",
      "Epoch 73/100\n",
      "3/3 - 0s - loss: 0.5948 - accuracy: 0.7333\n",
      "Epoch 74/100\n",
      "3/3 - 0s - loss: 0.5933 - accuracy: 0.7333\n",
      "Epoch 75/100\n",
      "3/3 - 0s - loss: 0.5911 - accuracy: 0.7333\n",
      "Epoch 76/100\n",
      "3/3 - 0s - loss: 0.5894 - accuracy: 0.7333\n",
      "Epoch 77/100\n",
      "3/3 - 0s - loss: 0.5876 - accuracy: 0.7333\n",
      "Epoch 78/100\n",
      "3/3 - 0s - loss: 0.5856 - accuracy: 0.7467\n",
      "Epoch 79/100\n",
      "3/3 - 0s - loss: 0.5837 - accuracy: 0.7467\n",
      "Epoch 80/100\n",
      "3/3 - 0s - loss: 0.5819 - accuracy: 0.7467\n",
      "Epoch 81/100\n",
      "3/3 - 0s - loss: 0.5798 - accuracy: 0.7600\n",
      "Epoch 82/100\n",
      "3/3 - 0s - loss: 0.5779 - accuracy: 0.7600\n",
      "Epoch 83/100\n",
      "3/3 - 0s - loss: 0.5758 - accuracy: 0.7733\n",
      "Epoch 84/100\n",
      "3/3 - 0s - loss: 0.5739 - accuracy: 0.7867\n",
      "Epoch 85/100\n",
      "3/3 - 0s - loss: 0.5719 - accuracy: 0.8400\n",
      "Epoch 86/100\n",
      "3/3 - 0s - loss: 0.5697 - accuracy: 0.8400\n",
      "Epoch 87/100\n",
      "3/3 - 0s - loss: 0.5677 - accuracy: 0.8533\n",
      "Epoch 88/100\n",
      "3/3 - 0s - loss: 0.5658 - accuracy: 0.8533\n",
      "Epoch 89/100\n",
      "3/3 - 0s - loss: 0.5635 - accuracy: 0.8533\n",
      "Epoch 90/100\n",
      "3/3 - 0s - loss: 0.5613 - accuracy: 0.8533\n",
      "Epoch 91/100\n",
      "3/3 - 0s - loss: 0.5592 - accuracy: 0.8533\n",
      "Epoch 92/100\n",
      "3/3 - 0s - loss: 0.5571 - accuracy: 0.8533\n",
      "Epoch 93/100\n",
      "3/3 - 0s - loss: 0.5548 - accuracy: 0.8533\n",
      "Epoch 94/100\n",
      "3/3 - 0s - loss: 0.5526 - accuracy: 0.8533\n",
      "Epoch 95/100\n",
      "3/3 - 0s - loss: 0.5503 - accuracy: 0.8533\n",
      "Epoch 96/100\n",
      "3/3 - 0s - loss: 0.5482 - accuracy: 0.8533\n",
      "Epoch 97/100\n",
      "3/3 - 0s - loss: 0.5458 - accuracy: 0.8533\n",
      "Epoch 98/100\n",
      "3/3 - 0s - loss: 0.5435 - accuracy: 0.8533\n",
      "Epoch 99/100\n",
      "3/3 - 0s - loss: 0.5412 - accuracy: 0.8533\n",
      "Epoch 100/100\n",
      "3/3 - 0s - loss: 0.5389 - accuracy: 0.8533\n"
     ]
    },
    {
     "data": {
      "text/plain": [
       "<tensorflow.python.keras.callbacks.History at 0x1e0b40df188>"
      ]
     },
     "execution_count": 19,
     "metadata": {},
     "output_type": "execute_result"
    }
   ],
   "source": [
    "deep_model.compile(optimizer='adam',\n",
    "                   loss='categorical_crossentropy',\n",
    "                   metrics=['accuracy'])\n",
    "\n",
    "deep_model.fit(\n",
    "    X_train_scaled,\n",
    "    y_train_categorical,\n",
    "    epochs=100,\n",
    "    shuffle=True,\n",
    "    verbose=2\n",
    ")"
   ]
  },
  {
   "cell_type": "markdown",
   "metadata": {},
   "source": [
    "# Compare the models below"
   ]
  },
  {
   "cell_type": "code",
   "execution_count": 20,
   "metadata": {},
   "outputs": [
    {
     "name": "stdout",
     "output_type": "stream",
     "text": [
      "1/1 - 0s - loss: 0.6234 - accuracy: 0.7600\n",
      "Normal Neural Network - Loss: 0.6233718991279602, Accuracy: 0.7599999904632568\n"
     ]
    }
   ],
   "source": [
    "model_loss, model_accuracy = model.evaluate(\n",
    "    X_test_scaled, y_test_categorical, verbose=2)\n",
    "print(\n",
    "    f\"Normal Neural Network - Loss: {model_loss}, Accuracy: {model_accuracy}\")"
   ]
  },
  {
   "cell_type": "code",
   "execution_count": 21,
   "metadata": {},
   "outputs": [
    {
     "name": "stdout",
     "output_type": "stream",
     "text": [
      "1/1 - 0s - loss: 0.5296 - accuracy: 0.8800\n",
      "Deep Neural Network - Loss: 0.5296357870101929, Accuracy: 0.8799999952316284\n"
     ]
    }
   ],
   "source": [
    "model_loss, model_accuracy = deep_model.evaluate(\n",
    "    X_test_scaled, y_test_categorical, verbose=2)\n",
    "print(f\"Deep Neural Network - Loss: {model_loss}, Accuracy: {model_accuracy}\")"
   ]
  },
  {
   "cell_type": "code",
   "execution_count": null,
   "metadata": {},
   "outputs": [],
   "source": []
  }
 ],
 "metadata": {
  "anaconda-cloud": {},
  "kernelspec": {
   "display_name": "Python 3",
   "language": "python",
   "name": "python3"
  },
  "language_info": {
   "codemirror_mode": {
    "name": "ipython",
    "version": 3
   },
   "file_extension": ".py",
   "mimetype": "text/x-python",
   "name": "python",
   "nbconvert_exporter": "python",
   "pygments_lexer": "ipython3",
   "version": "3.7.6"
  },
  "varInspector": {
   "cols": {
    "lenName": 16,
    "lenType": 16,
    "lenVar": 40
   },
   "kernels_config": {
    "python": {
     "delete_cmd_postfix": "",
     "delete_cmd_prefix": "del ",
     "library": "var_list.py",
     "varRefreshCmd": "print(var_dic_list())"
    },
    "r": {
     "delete_cmd_postfix": ") ",
     "delete_cmd_prefix": "rm(",
     "library": "var_list.r",
     "varRefreshCmd": "cat(var_dic_list()) "
    }
   },
   "types_to_exclude": [
    "module",
    "function",
    "builtin_function_or_method",
    "instance",
    "_Feature"
   ],
   "window_display": false
  }
 },
 "nbformat": 4,
 "nbformat_minor": 2
}
