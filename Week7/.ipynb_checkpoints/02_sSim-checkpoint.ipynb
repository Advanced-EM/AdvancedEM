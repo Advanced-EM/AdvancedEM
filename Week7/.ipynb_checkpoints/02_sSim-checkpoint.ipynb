{
 "cells": [
  {
   "cell_type": "markdown",
   "metadata": {},
   "source": [
    "### Multislice Simulations\n",
    "\n",
    "**Roberto dos Reis**<br>\n",
    "Northwestern University\n",
    "\n",
    "- The multislice method of Cowley and Moodie[1](https://doi.org/10.1107/S0365110X57002194) is, surely, the most widely used method for the simulation of images.\n",
    "\n",
    "- Multislice \n",
    "\n",
    "- This script is based on [Kirkland's Advanced Computing in Electron Microscopy](https://www.springer.com/us/book/9781489995094#otherversion=9781441965325)"
   ]
  },
  {
   "cell_type": "code",
   "execution_count": null,
   "metadata": {},
   "outputs": [],
   "source": [
    "# Numeric operations\n",
    "import numpy as np\n",
    "\n",
    "# Visualization / Plotting\n",
    "import matplotlib\n",
    "from matplotlib import pyplot as plt\n",
    "from matplotlib.patches import Rectangle\n",
    "from numpy.matlib import repmat\n",
    "\n",
    "#to load .mat files\n",
    "from scipy.io import loadmat\n",
    "from scipy.special import jv\n",
    "from scipy.io import loadmat\n",
    "\n",
    "# for math functions\n",
    "import scipy.special as sp\n",
    "from scipy.interpolate import interp1d\n",
    "from scipy.special import expit\n",
    "import math\n",
    "\n",
    "from mpmath import *\n",
    "from scipy.special import kn\n",
    "\n",
    "import os\n",
    "\n",
    "# Ensure that images are rendered in this notebook:\n",
    "%matplotlib inline"
   ]
  },
  {
   "cell_type": "markdown",
   "metadata": {},
   "source": [
    "### Define structure here\n",
    "\n",
    "- Essentially at he end of this block you need an array with x,y,z positions and Z number for each element tiled by the number of unit cells needed for simulations in [x,y] directions \n",
    "\n",
    "- This can be defined using softwares like Vesta or CrystalMaker\n",
    "\n",
    "- You can find similar code in the Week 5 material"
   ]
  },
  {
   "cell_type": "code",
   "execution_count": null,
   "metadata": {},
   "outputs": [],
   "source": [
    "numUC = np.array([2,2])*8\n",
    "thickness = 100\n",
    "\n",
    "## Define cubic SrTiO3\n",
    "\n",
    "#Lattice parameter\n",
    "a = 3.905\n",
    "\n",
    "potBound = 1.25\n",
    "\n",
    "# Cell dimensions\n",
    "cellDim = np.array([1,1,1])*a\n",
    "\n",
    "#Debye waller factors converted into RMS atomic displacements\n",
    "uSr = np.sqrt(0.270/8)/np.pi\n",
    "uTi = np.sqrt(0.415/8)/np.pi\n",
    "uO = 0.10\n",
    "\n",
    "#Define STO lattice\n",
    "b = np.array([[0.0, 0.0, 0.0, 38], \n",
    "             [0.5, 0.5, 0.5, 22],\n",
    "             [0.0, 0.0, 0.5, 8],\n",
    "             [0.0, 0.5, 0.0, 8],\n",
    "             [0.5, 0.0, 0.0, 8]])\n",
    "\n",
    "#Convert thicknesses into number of cells\n",
    "\n",
    "thickCells = np.round(thickness/cellDim[2])\n",
    "thickTotal = np.max(thickCells)\n",
    "\n",
    "# Make structure block\n",
    "[xa,ya,za] = np.meshgrid(np.arange(0,(numUC[0]-1)), np.arange(0,(numUC[1]-1)), 1)\n",
    "\n",
    "xxa = np.reshape(xa, (1,np.product(xa.shape))).transpose()\n",
    "yya = np.reshape(ya, (1,np.product(ya.shape))).transpose()\n",
    "zza = np.reshape(za, (1,np.product(za.shape))).transpose()\n",
    "\n",
    "p = np.squeeze(np.array([xxa, yya, zza, np.zeros(((xa.size),1))]))\n",
    "p= p.transpose()\n",
    "\n",
    "[pa,ba] = np.meshgrid(np.arange(0, np.size(p, axis=0)), np.arange(0, np.size(b, axis=0)))\n",
    "\n",
    "atoms = p[pa[:],] + b[ba[:],]\n",
    "atoms = atoms.reshape((atoms.shape[0]*atoms.shape[1]), atoms.shape[2])\n",
    "\n",
    "# scale to UC dimensions\n",
    "atoms[:,0] = atoms[:,0]*cellDim[0]\n",
    "atoms[:,1] = atoms[:,1]*cellDim[1]\n",
    "atoms[:,2] = atoms[:,2]*cellDim[2]"
   ]
  },
  {
   "cell_type": "code",
   "execution_count": null,
   "metadata": {},
   "outputs": [],
   "source": [
    "import plotly.graph_objects as go\n",
    "import numpy as np\n",
    "\n",
    "# Data for three-dimensional scattered points\n",
    "zdata = atoms[:,2]\n",
    "xdata = atoms[:,0]\n",
    "ydata = atoms[:,1]\n",
    "\n",
    "fig = go.Figure(data=[go.Scatter3d(x=xdata, y=ydata, z=zdata,\n",
    "                                   mode='markers',\n",
    "                                   marker=dict(size=12,\n",
    "                                               colorscale='Viridis', # choose a colorscale\n",
    "                                               opacity=0.8))])\n",
    "fig.show()"
   ]
  },
  {
   "cell_type": "markdown",
   "metadata": {},
   "source": [
    "### Simulation Inputs\n"
   ]
  },
  {
   "cell_type": "code",
   "execution_count": null,
   "metadata": {},
   "outputs": [],
   "source": [
    "numFP = 1\n",
    "\n",
    "#Flag to plot projected potentials\n",
    "f_plotPot = 1\n",
    "\n",
    "#Probe positions\n",
    "Nprobes = np.array([1,1])*8\n",
    "\n",
    "# xp = np.linspace(0,cellDim[0]*1, num = Nprobes[0])\n",
    "# xp[-1] = 0\n",
    "# yp = np.linspace(0,cellDim[1]*1, num = Nprobes[1])\n",
    "# yp[-1] = 0\n",
    "\n",
    "# for testing use single probe\n",
    "xp = [0,1]\n",
    "yp = [0,1]\n"
   ]
  },
  {
   "cell_type": "markdown",
   "metadata": {},
   "source": [
    "### Microscope parameters"
   ]
  },
  {
   "cell_type": "code",
   "execution_count": null,
   "metadata": {},
   "outputs": [],
   "source": [
    "#Approximate pixel size - if cell is rectangular, pixel size in x and y will not be identical\n",
    "pSize = 0.05*2\n",
    "\n",
    "df = 0;   # -C1 focus on incident surface\n",
    "# df = np.arange(0,300,5)\n",
    "\n",
    "# Probe Aberrations\n",
    "C3 = -.000 * 10**7\n",
    "C5 = 0.0 * 10**7\n",
    "\n",
    "#illumination angle in mrads\n",
    "alphaMax = 10/1000\n",
    "\n",
    "#Microscope voltage\n",
    "E0 = 120*(10**3) \n",
    "\n",
    "#Calculate wavelength and electron interaction parameter\n",
    "m = 9.109383*10**-31\n",
    "e = 1.602177*10**-19\n",
    "c =  299792458\n",
    "h = 6.62607*10**-34\n",
    "\n",
    "#wavelength in A\n",
    "lamb = h/np.sqrt(2*m*e*E0)/np.sqrt(1 + e*E0/2/m/c**2)*10**10\n",
    "s = (2*np.pi/lamb/E0)*(m*c**2+e*E0)/(2*m*(c**2)+e*E0)\n",
    "\n",
    "# number of slices per cell defined using the z direction\n",
    "\n",
    "dz = cellDim[2]/2"
   ]
  },
  {
   "cell_type": "markdown",
   "metadata": {},
   "source": [
    "### Prepare RealSpace coordinate system"
   ]
  },
  {
   "cell_type": "code",
   "execution_count": null,
   "metadata": {},
   "outputs": [],
   "source": [
    "#Make sure even number of pixels per cell\n",
    "Nx = np.ceil(numUC[0]*cellDim[0]/pSize/2)*2\n",
    "Ny = np.ceil(numUC[1]*cellDim[1]/pSize/2)*2\n",
    "\n",
    "xSize = numUC[0]*cellDim[0]/Nx\n",
    "ySize = numUC[1]*cellDim[1]/Nx\n",
    "xySize = np.array([xSize,ySize]) # this is the pixelsize in realspace\n"
   ]
  },
  {
   "cell_type": "markdown",
   "metadata": {},
   "source": [
    "### Make Fourier coordinate system"
   ]
  },
  {
   "cell_type": "code",
   "execution_count": null,
   "metadata": {},
   "outputs": [],
   "source": [
    "Lx = Nx*xSize\n",
    "Ly = Ny*ySize\n",
    "\n",
    "qx = np.roll(np.arange((-Nx/2),(Nx/2 -1))/Lx, (np.hstack((0,-Nx/2)).astype(int)))\n",
    "qy = np.roll(np.arange((-Ny/2),(Ny/2 -1))/Ly, (np.hstack((0,-Ny/2)).astype(int)))\n",
    "\n",
    "[qya, qxa] = np.meshgrid(qy,qx);\n",
    "q2 = np.dot(qxa,qxa) + np.dot(qya,qya)\n",
    "q4 = np.dot(q2,q2)\n",
    "q6 = np.dot(q2,q4)\n",
    "q1 = np.sqrt(abs(q2))"
   ]
  },
  {
   "cell_type": "markdown",
   "metadata": {},
   "source": [
    "### Make propagators and anti aliasing aperture AA"
   ]
  },
  {
   "cell_type": "code",
   "execution_count": null,
   "metadata": {},
   "outputs": [],
   "source": [
    "dq = qx[1]-qx[0]\n",
    "Adist = 2*(np.max(qx)/2 - q1)/dq+0\n",
    "AA = Adist\n",
    "AA = Adist\n",
    "AA[Adist>1] = 1\n",
    "AA[Adist<0] = 0"
   ]
  },
  {
   "cell_type": "markdown",
   "metadata": {},
   "source": [
    "### Propagator"
   ]
  },
  {
   "cell_type": "code",
   "execution_count": null,
   "metadata": {},
   "outputs": [],
   "source": [
    "zint = 1j\n",
    "prop = np.exp(-zint*np.pi*lamb*dz*q2)*AA"
   ]
  },
  {
   "cell_type": "code",
   "execution_count": null,
   "metadata": {},
   "outputs": [],
   "source": [
    "prop.shape"
   ]
  },
  {
   "cell_type": "markdown",
   "metadata": {},
   "source": [
    "### Make probe components"
   ]
  },
  {
   "cell_type": "code",
   "execution_count": null,
   "metadata": {},
   "outputs": [],
   "source": [
    "qMax = alphaMax/lamb\n",
    "qMax,q2.shape"
   ]
  },
  {
   "cell_type": "code",
   "execution_count": null,
   "metadata": {},
   "outputs": [],
   "source": [
    "# chiProbe = (2*np.pi/lamb)*((1/2)*(lamb**2)*q2*df)\n",
    "chiProbe = (2*np.pi/lamb)*((1/2)*(lamb**2)*q2*df + (1/4)*(lamb**4)*q4*C3 + (1/6)*(lamb**6)*q6*C5)\n",
    "probefft = np.exp(-1j*chiProbe-2*np.pi*1j*(qx*(xp[0])+ qy*(yp[0])))*AA"
   ]
  },
  {
   "cell_type": "code",
   "execution_count": null,
   "metadata": {},
   "outputs": [],
   "source": [
    "chiProbe.shape, probefft.shape"
   ]
  },
  {
   "cell_type": "markdown",
   "metadata": {},
   "source": [
    "### Construct projected potentials"
   ]
  },
  {
   "cell_type": "code",
   "execution_count": null,
   "metadata": {},
   "outputs": [],
   "source": [
    "fparams = loadmat('fparams.mat')"
   ]
  },
  {
   "cell_type": "code",
   "execution_count": null,
   "metadata": {},
   "outputs": [],
   "source": [
    "fparams['fparams'][7]"
   ]
  },
  {
   "cell_type": "code",
   "execution_count": null,
   "metadata": {},
   "outputs": [],
   "source": [
    "ap = fparams['fparams'][37,:]\n",
    "\n",
    "#Super sampling for potential integration (should be even!!)\n",
    "ss = 4\n",
    "#Constants\n",
    "a0 = 0.5292\n",
    "e = 14.4\n",
    "term1 = 2*np.pi**2*a0*e\n",
    "term2 = 2*pi**(5/2)*a0*e\n",
    "\n",
    "#Make supersampled 2D grid for integration\n",
    "dx = (xr[1] - xr[0])\n",
    "dy = (yr[1] - yr[0])\n",
    "\n",
    "sub = np.arange((-(ss-1)/ss/2),((ss-1)/ss/2),(1/ss))\n",
    "#sub = (-(ss-1)/ss/2):(1/ss):((ss-1)/ss/2)\n",
    "[x1,x2] = np.meshgrid(xr,sub*dx)\n",
    "xv = x1[:] + x2[:]\n",
    "[y1,y2] = np.meshgrid(yr,sub*dy)\n",
    "yv = y1[:] + y2[:]\n",
    "[ya,xa] = np.meshgrid(yv,xv)\n",
    "r2 = xa**2 + ya**2\n",
    "r = np.sqrt(r2)\n",
    "\n",
    "\n",
    "potSS = term1*(ap[0]* kn(0,2*np.pi*np.sqrt(ap[1])*r)+ ap[2]*kn(0,2*np.pi*np.sqrt(ap[3]*r))+ ap[4]*kn(0,2*np.pi*np.sqrt(ap[5]*r)))\n",
    "+ term2*(ap[6]/ap[7]*np.exp((-np.pi**2)/ap[7]*r2)\n",
    "         + ap[8]/ap[9]*np.exp((-np.pi**2)/ap[9]*r2)\n",
    "         + ap[10]/ap[11]*np.exp((-np.pi**2)/ap[11]*r2))\n",
    "\n",
    "potMid = np.zeros((len(xr),len(yr)*ss))\n",
    "\n",
    "# for a0 in np.arange(0,ss):\n",
    "        potMid = potMid + potSS[(np.arange(a0,(-1+a0-ss),ss)),:]\n",
    "            \n",
    "#     pot = np.zeros((len(xr),len(yr)))\n",
    "    \n",
    "#     for a0 = 1:ss:\n",
    "#             pot = pot + potMid(:,a0:ss:(end+a0-ss))\n",
    "            \n",
    "#     pot = pot / ss^2;"
   ]
  },
  {
   "cell_type": "code",
   "execution_count": null,
   "metadata": {},
   "outputs": [],
   "source": [
    "potSS.shape, potMid.shape"
   ]
  },
  {
   "cell_type": "code",
   "execution_count": null,
   "metadata": {},
   "outputs": [],
   "source": [
    "test = potSS[(np.arange(4,75,ss)),:]\n",
    "test.shape"
   ]
  },
  {
   "cell_type": "code",
   "execution_count": null,
   "metadata": {},
   "outputs": [],
   "source": [
    "np.arange(1,(-1+1-4),4)"
   ]
  },
  {
   "cell_type": "code",
   "execution_count": null,
   "metadata": {},
   "outputs": [],
   "source": [
    "def projPot(fparams,atomID,xr,yr):\n",
    "    #Super sampling for potential integration (should be even!!)\n",
    "    ss = 4\n",
    "    \n",
    "    #Constants\n",
    "    a0 = 0.5292\n",
    "    e = 14.4\n",
    "    term1 = 2*np.pi**2*a0*e\n",
    "    term2 = 2*np.pi**(5/2)*a0*e\n",
    "    \n",
    "    #Make supersampled 2D grid for integration\n",
    "    dx = (xr[1] - xr[0])\n",
    "    dy = (yr[1] - yr[0])\n",
    "    \n",
    "    sub = np.arange((-(ss-1)/ss/2),((ss-1)/ss/2),(1/ss))\n",
    "    #sub = (-(ss-1)/ss/2):(1/ss):((ss-1)/ss/2)\n",
    "    [x1,x2] = np.meshgrid(xr,sub*dx)\n",
    "    xv = x1[:] + x2[:]\n",
    "    [y1,y2] = np.meshgrid(yr,sub*dy)\n",
    "    yv = y1[:] + y2[:]\n",
    "    [ya,xa] = np.meshgrid(yv,xv)\n",
    "    r2 = xa**2 + ya**2\n",
    "    r = np.sqrt(r2)\n",
    "    \n",
    "    #Compute potential\n",
    "    ap = fparams['fparams'][atomID,:]\n",
    "    \n",
    "    potSS = term1*(ap[0]*kn(0,2*np.pi*np.sqrt(ap[1])*r)\n",
    "                   + ap[2]*kn(0,2*np.pi*np.sqrt(ap[3]*r))+ ap[4]*kn(0,2*np.pi*np.sqrt(ap[5]*r)))\n",
    "    + term2*(ap[6]/ap[7]*np.exp((-np.pi**2)/ap[7]*r2)\n",
    "             + ap[8]/ap[9]*np.exp((-np.pi**2)/ap[9]*r2)\n",
    "             + ap[10]/ap[11]*np.exp((-np.pi**2)/ap[11]*r2))\n",
    "    \n",
    "    #Integrate!\n",
    "    \n",
    "    return pot"
   ]
  },
  {
   "cell_type": "code",
   "execution_count": null,
   "metadata": {},
   "outputs": [],
   "source": [
    "# potSr = projPot(fparams,37,xr,yr)"
   ]
  },
  {
   "cell_type": "code",
   "execution_count": null,
   "metadata": {},
   "outputs": [],
   "source": [
    "xyLeng = np.ceil(potBound/xySize)\n",
    "xvec = np.arange(-xyLeng[0]+1,xyLeng[0])\n",
    "yvec = np.arange(-xyLeng[1]+1,xyLeng[1])\n",
    "xr = xvec*xySize[0]\n",
    "yr = yvec*xySize[1]\n",
    "\n",
    "# potSr = projPot(38,xr,yr);\n",
    "# potTi = projPot(22,xr,yr);\n",
    "# potO = projPot(8,xr,yr);"
   ]
  },
  {
   "cell_type": "markdown",
   "metadata": {},
   "source": [
    "### Preparing detector"
   ]
  },
  {
   "cell_type": "code",
   "execution_count": null,
   "metadata": {},
   "outputs": [],
   "source": [
    "## Keep only center portion of detector\n",
    "dx = np.round(Nx/4);\n",
    "dy = np.round(Ny/4);\n",
    "# xvecDet = np.array([np.arange(0,dx), np.arange(Nx+((-Nx/2 +1 +dx),0))]);\n",
    "# yvecDet = [1:dy Ny+((-Nx/2+1+dx):0)]\n"
   ]
  },
  {
   "cell_type": "markdown",
   "metadata": {},
   "source": [
    "### Preparing slices"
   ]
  },
  {
   "cell_type": "code",
   "execution_count": null,
   "metadata": {},
   "outputs": [],
   "source": [
    "# Divide up atoms into slices\n",
    "zVals = np.round((atoms[:,2] - min(atoms[:,2]))/dz +.5)\n",
    "zPlanes = np.sort(np.unique(zVals))"
   ]
  },
  {
   "cell_type": "code",
   "execution_count": null,
   "metadata": {},
   "outputs": [],
   "source": [
    "Nx/2"
   ]
  },
  {
   "cell_type": "markdown",
   "metadata": {},
   "source": [
    "### Main loops"
   ]
  },
  {
   "cell_type": "code",
   "execution_count": null,
   "metadata": {},
   "outputs": [],
   "source": [
    "data = np.zeros((int(Nx/2), int(Ny/2), np.size(xp), np.size(yp), np.size(int(thickCells))))\n",
    "intData = np.zeros((np.max(int(thickCells)),2))"
   ]
  },
  {
   "cell_type": "code",
   "execution_count": null,
   "metadata": {},
   "outputs": [],
   "source": [
    "data.shape, intData.shape"
   ]
  },
  {
   "cell_type": "code",
   "execution_count": null,
   "metadata": {},
   "outputs": [],
   "source": [
    "#preparing to plot potentials\n",
    "\n",
    "if f_plotPot == 1:\n",
    "    potSum = np.zeros((int(Nx),int(Ny)))"
   ]
  },
  {
   "cell_type": "code",
   "execution_count": null,
   "metadata": {},
   "outputs": [],
   "source": [
    "for a1 in np.arange(0,numFP):\n",
    "    print(a1)"
   ]
  },
  {
   "cell_type": "code",
   "execution_count": null,
   "metadata": {},
   "outputs": [],
   "source": [
    "psi = np.zeros((int(Nx)-1,int(Ny)-1,np.size(xp), np.size(yp)),dtype=np.complex_)\n",
    "probefft = np.exp(-1j*chiProbe-2*np.pi*1j*(qxa*(xp[0])+ qya*(yp[0])))*AA\n",
    "probefft = probefft/np.sqrt(np.sum(np.sum(abs(probefft)**2)))\n",
    "psi[:,:,0,0] = probefft;"
   ]
  },
  {
   "cell_type": "code",
   "execution_count": null,
   "metadata": {},
   "outputs": [],
   "source": [
    "psi.shape,chiProbe.shape"
   ]
  },
  {
   "cell_type": "code",
   "execution_count": null,
   "metadata": {},
   "outputs": [],
   "source": [
    "# first loop over numFP\n",
    "\n",
    "for a1 in np.arange(0,numFP):\n",
    "    \n",
    "    #Initialize probes\n",
    "    psi = np.zeros((int(Nx)-1,int(Ny)-1,np.size(xp), np.size(yp)),dtype=np.complex_)\n",
    "    \n",
    "    for a2 in np.arange(0,np.size(xp)):\n",
    "        \n",
    "        for a3 in np.arange(0,np.size(yp)):\n",
    "            probefft = np.exp(-1j*chiProbe-2*np.pi*1j*(qxa*(xp[0])+ qya*(yp[0])))*AA\n",
    "            probefft = probefft/np.sqrt(np.sum(np.sum(abs(probefft)**2)))\n",
    "            psi[:,:,0,0] = probefft\n",
    "            \n",
    "        \n",
    "        #Propagate through whole foil\n",
    "            for a2 = 1:max(thickCells)\n",
    "                aSub = atoms(zVals==zPlanes(mod(a2-1,length(zPlanes))+1),:)\n",
    "                \n",
    "                #Generate slice potential\n",
    "                pot = np.zeros((int(Nx),int(Ny)))\n",
    "                \n",
    "                for a3 = 1:size(aSub,1)\n",
    "                    \n",
    "                    if aSub(a3,4) == 8:\n",
    "                        \n",
    "                    x = mod(xvec+round((aSub(a3,1)+randn*uO)/xySize(1)),Nx)+1;\n",
    "                    y = mod(yvec+round((aSub(a3,2)+randn*uO)/xySize(2)),Ny)+1;\n",
    "                    pot(x,y) = pot(x,y) + potO\n",
    "                    \n",
    "                    elif aSub(a3,4) == 22:\n",
    "                        x = mod(xvec+round((aSub(a3,1)+randn*uTi)/xySize(1)),Nx)+1;\n",
    "                        y = mod(yvec+round((aSub(a3,2)+randn*uTi)/xySize(2)),Ny)+1;\n",
    "                        pot(x,y) = pot(x,y) + potTi\n",
    "                        \n",
    "                        elif aSub(a3,4) == 38:\n",
    "                        x = mod(xvec+round((aSub(a3,1)+randn*uSr)/xySize(1)),Nx)+1;\n",
    "                        y = mod(yvec+round((aSub(a3,2)+randn*uSr)/xySize(2)),Ny)+1;\n",
    "                        pot(x,y) = pot(x,y) + potSr;\n",
    "                    \n",
    "    if f_plotPot == 1:\n",
    "    potSum = potSum + pot\n",
    "    \n",
    "    trans = exp(1i*s*pot)\n",
    "    \n",
    "    for a3 = 1:length(xp):\n",
    "        \n",
    "        for a4 = 1:length(yp):\n",
    "                \n",
    "                psi(:,:,a3,a4) = fft2(ifft2(psi(:,:,a3,a4))*trans)*prop\n",
    "                \n",
    "                \n",
    "            \n",
    "    ## Integrated intensity\n",
    "    \n",
    "    intData(a2,:) = emdSTEM.intData(a2,:)+ [dz*a3 sum(abs(psi(:).^2))/length(xp)/length(yp)]\n",
    "            ## Output results\n",
    "        \n",
    "        [val,ind] = min(abs(thickCells-a2))\n",
    "        \n",
    "        if val == 0:\n",
    "            \n",
    "            for a3 = 1:length(xp)\n",
    "                for a4 = 1:length(yp)\n",
    "                    \n",
    "                    data(:,:,a3,a4,ind,a0) = data(:,:,a3,a4,ind,a0) + abs(psi(xvecDet,yvecDet,a3,a4))**2\n",
    "            \n",
    "            \n",
    "            \n",
    "data = data/numFP;\n",
    "emdSTEM.intData = emdSTEM.intData / numFP / length(compArray);\n",
    "\n",
    "## Rescale coordinates for antialiasing scale\n",
    "xySize = emdSTEM.xySize*2\n",
    "\n",
    "\n",
    "if f_plotPot == 1:\n",
    "emdSTEM.potSum = potSum;\n",
    "    \n",
    "#     figure(1)\n",
    "#     clf\n",
    "#     imagesc(potSum/numFP)\n",
    "#     axis equal off\n",
    "#     colormap(hot(256))\n",
    "#     set(gca,'position',[0 0 1 1])"
   ]
  },
  {
   "cell_type": "code",
   "execution_count": 3,
   "metadata": {},
   "outputs": [
    {
     "ename": "RuntimeError",
     "evalue": "MATLAB location is unknown (try to initialize MatlabSession with matlab_root set properly).",
     "output_type": "error",
     "traceback": [
      "\u001b[1;31m---------------------------------------------------------------------------\u001b[0m",
      "\u001b[1;31mRuntimeError\u001b[0m                              Traceback (most recent call last)",
      "\u001b[1;32m<ipython-input-3-4b0b162a3783>\u001b[0m in \u001b[0;36m<module>\u001b[1;34m\u001b[0m\n\u001b[0;32m      1\u001b[0m \u001b[1;32mimport\u001b[0m \u001b[0mmatlab_wrapper\u001b[0m\u001b[1;33m\u001b[0m\u001b[1;33m\u001b[0m\u001b[0m\n\u001b[1;32m----> 2\u001b[1;33m \u001b[0mmatlab\u001b[0m \u001b[1;33m=\u001b[0m \u001b[0mmatlab_wrapper\u001b[0m\u001b[1;33m.\u001b[0m\u001b[0mMatlabSession\u001b[0m\u001b[1;33m(\u001b[0m\u001b[1;33m)\u001b[0m\u001b[1;33m\u001b[0m\u001b[1;33m\u001b[0m\u001b[0m\n\u001b[0m",
      "\u001b[1;32mC:\\ProgramData\\Anaconda3\\envs\\advem\\lib\\site-packages\\matlab_wrapper\\matlab_session.py\u001b[0m in \u001b[0;36m__init__\u001b[1;34m(self, options, matlab_root, buffer_size)\u001b[0m\n\u001b[0;32m    105\u001b[0m \u001b[1;33m\u001b[0m\u001b[0m\n\u001b[0;32m    106\u001b[0m         \u001b[1;32mif\u001b[0m \u001b[0mmatlab_root\u001b[0m \u001b[1;32mis\u001b[0m \u001b[1;32mNone\u001b[0m\u001b[1;33m:\u001b[0m\u001b[1;33m\u001b[0m\u001b[1;33m\u001b[0m\u001b[0m\n\u001b[1;32m--> 107\u001b[1;33m             \u001b[1;32mraise\u001b[0m \u001b[0mRuntimeError\u001b[0m\u001b[1;33m(\u001b[0m\u001b[1;34m\"MATLAB location is unknown (try to initialize MatlabSession with matlab_root set properly).\"\u001b[0m\u001b[1;33m)\u001b[0m\u001b[1;33m\u001b[0m\u001b[1;33m\u001b[0m\u001b[0m\n\u001b[0m\u001b[0;32m    108\u001b[0m \u001b[1;33m\u001b[0m\u001b[0m\n\u001b[0;32m    109\u001b[0m         \u001b[0mself\u001b[0m\u001b[1;33m.\u001b[0m\u001b[0m_matlab_root\u001b[0m \u001b[1;33m=\u001b[0m \u001b[0mmatlab_root\u001b[0m\u001b[1;33m\u001b[0m\u001b[1;33m\u001b[0m\u001b[0m\n",
      "\u001b[1;31mRuntimeError\u001b[0m: MATLAB location is unknown (try to initialize MatlabSession with matlab_root set properly)."
     ]
    }
   ],
   "source": [
    "import matlab_wrapper\n",
    "matlab = matlab_wrapper.MatlabSession()"
   ]
  },
  {
   "cell_type": "code",
   "execution_count": 1,
   "metadata": {},
   "outputs": [
    {
     "name": "stdout",
     "output_type": "stream",
     "text": [
      "Collecting matlab-wrapper==0.9.5\n",
      "  Downloading matlab_wrapper-0.9.5.tar.gz (23 kB)\n",
      "Requirement already satisfied: numpy in c:\\programdata\\anaconda3\\envs\\advem\\lib\\site-packages (from matlab-wrapper==0.9.5) (1.18.1)\n",
      "Building wheels for collected packages: matlab-wrapper\n",
      "  Building wheel for matlab-wrapper (setup.py): started\n",
      "  Building wheel for matlab-wrapper (setup.py): finished with status 'done'\n",
      "  Created wheel for matlab-wrapper: filename=matlab_wrapper-0.9.5-py3-none-any.whl size=24304 sha256=4eaa04fbea1d060378bf3753ced8651153e1234f0dd10bb7d2838877ceb013ec\n",
      "  Stored in directory: c:\\users\\roberto\\appdata\\local\\pip\\cache\\wheels\\b8\\82\\97\\62f6ba246ad3e3caada627dc1df1f54cbeda04d1464db74de3\n",
      "Successfully built matlab-wrapper\n",
      "Installing collected packages: matlab-wrapper\n",
      "  Attempting uninstall: matlab-wrapper\n",
      "    Found existing installation: matlab-wrapper 1\n",
      "    Uninstalling matlab-wrapper-1:\n",
      "      Successfully uninstalled matlab-wrapper-1\n",
      "Successfully installed matlab-wrapper-0.9.5\n"
     ]
    }
   ],
   "source": [
    "!pip install matlab-wrapper==0.9.5"
   ]
  },
  {
   "cell_type": "markdown",
   "metadata": {},
   "source": [
    "************************************************************************"
   ]
  }
 ],
 "metadata": {
  "kernelspec": {
   "display_name": "Python 3",
   "language": "python",
   "name": "python3"
  },
  "language_info": {
   "codemirror_mode": {
    "name": "ipython",
    "version": 3
   },
   "file_extension": ".py",
   "mimetype": "text/x-python",
   "name": "python",
   "nbconvert_exporter": "python",
   "pygments_lexer": "ipython3",
   "version": "3.7.6"
  }
 },
 "nbformat": 4,
 "nbformat_minor": 4
}
