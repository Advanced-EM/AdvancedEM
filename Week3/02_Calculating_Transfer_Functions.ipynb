{
 "cells": [
  {
   "cell_type": "markdown",
   "metadata": {},
   "source": [
    "# Plotting STEM Transfer Functions\n",
    "\n",
    "**Roberto dos Reis**<br>\n",
    "Northwestern University\n",
    "\n",
    "\n",
    "Calculate STEM contrast transfer function\n",
    "\n",
    "\n",
    "**References:** <br>\n",
    "R.H. Wade, J. Frank, Optik, 49 (1977), p. 81\n",
    "Ishizuka, K., 1980. Contrast transfer of crystal images in TEM. Ultramicroscopy, 5(1-3), pp.55-65."
   ]
  },
  {
   "cell_type": "code",
   "execution_count": null,
   "metadata": {},
   "outputs": [],
   "source": []
  }
 ],
 "metadata": {
  "kernelspec": {
   "display_name": "Python 3",
   "language": "python",
   "name": "python3"
  },
  "language_info": {
   "codemirror_mode": {
    "name": "ipython",
    "version": 3
   },
   "file_extension": ".py",
   "mimetype": "text/x-python",
   "name": "python",
   "nbconvert_exporter": "python",
   "pygments_lexer": "ipython3",
   "version": "3.7.6"
  }
 },
 "nbformat": 4,
 "nbformat_minor": 4
}
