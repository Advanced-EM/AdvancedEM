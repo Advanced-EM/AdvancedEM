{
 "cells": [
  {
   "cell_type": "markdown",
   "metadata": {},
   "source": [
    "# Plotting STEM Transfer Functions\n",
    "\n",
    "**Roberto dos Reis**<br>\n",
    "Northwestern University\n",
    "\n",
    "\n",
    "Calculate STEM contrast transfer function\n",
    "\n",
    "\n",
    "**References:** <br>\n",
    "R.H. Wade, J. Frank, Optik, 49 (1977), p. 81\n",
    "Ishizuka, K., 1980. Contrast transfer of crystal images in TEM. Ultramicroscopy, 5(1-3), pp.55-65."
   ]
  },
  {
   "cell_type": "code",
   "execution_count": 1,
   "metadata": {},
   "outputs": [
    {
     "name": "stdout",
     "output_type": "stream",
     "text": [
      "Plot STEM transfer function\n"
     ]
    }
   ],
   "source": [
    "from numpy import *\n",
    "from pylab import *\n",
    "from stemh import *\n",
    "\n",
    "print ('Plot STEM transfer function')"
   ]
  },
  {
   "cell_type": "code",
   "execution_count": 2,
   "metadata": {},
   "outputs": [
    {
     "name": "stdout",
     "output_type": "stream",
     "text": [
      "Type electron energy in keV : 200\n",
      "Type spherical aberration Cs3 in mm : 1.3\n",
      "Type spherical aberration Cs5 in mm : 0\n",
      "Type defocus df in Angstroms : 200\n",
      "Type obj. apert. semiangle in mrad : 21\n",
      "Type defocus spread FWHM in Angstroms : 0.05\n"
     ]
    }
   ],
   "source": [
    "kev  = float64( input( 'Type electron energy in keV : ') )\n",
    "Cs3  = float64( input( 'Type spherical aberration Cs3 in mm : ') )\n",
    "Cs5  = float64( input( 'Type spherical aberration Cs5 in mm : ') )\n",
    "df   = float64( input( 'Type defocus df in Angstroms : ') )\n",
    "amax = float64( input( 'Type obj. apert. semiangle in mrad : ') )\n",
    "ddf  = float64( input( 'Type defocus spread FWHM in Angstroms : ') )\n",
    "p = [kev, Cs3, Cs5, df, amax, ddf ]"
   ]
  },
  {
   "cell_type": "code",
   "execution_count": 3,
   "metadata": {},
   "outputs": [
    {
     "data": {
      "image/png": "[encoded data removed]",
      "text/plain": [
       "<Figure size 432x288 with 1 Axes>"
      ]
     },
     "metadata": {
      "needs_background": "light"
     },
     "output_type": "display_data"
    }
   ],
   "source": [
    "# electron wavelength\n",
    "wav = wavelen(kev)  # electron wavelength\n",
    "kmax = 2*0.001*amax/wav;\n",
    "npts = 500;  # number of points to plot\n",
    "k = linspace( 0, kmax, npts)\n",
    "mtf = stemhk( k, p )\n",
    "plot( k, mtf )\n",
    "xlabel( 'k (inv. Angs.)')\n",
    "ylabel( 'MTF' )\n",
    "s1 = 'Cs3= %gmm, Cs5= %gmm, ' % ( Cs3, Cs5 )\n",
    "s2 = ' df= %gA, ' %  ( df )\n",
    "s3 = 'E= %gkeV, OA= %gmrad, ' % ( kev, amax )\n",
    "s4 = 'ddf= %gA' % (ddf)\n",
    "title( s1 + s2 + s3 + s4 )\n",
    "#savefig( 'stemtf.eps' )  # select file format\n",
    "#savefig( 'stemtf.pdf' )\n",
    "show()"
   ]
  },
  {
   "cell_type": "code",
   "execution_count": null,
   "metadata": {},
   "outputs": [],
   "source": []
  },
  {
   "cell_type": "code",
   "execution_count": null,
   "metadata": {},
   "outputs": [],
   "source": []
  }
 ],
 "metadata": {
  "kernelspec": {
   "display_name": "Python 3",
   "language": "python",
   "name": "python3"
  },
  "language_info": {
   "codemirror_mode": {
    "name": "ipython",
    "version": 3
   },
   "file_extension": ".py",
   "mimetype": "text/x-python",
   "name": "python",
   "nbconvert_exporter": "python",
   "pygments_lexer": "ipython3",
   "version": "3.7.6"
  }
 },
 "nbformat": 4,
 "nbformat_minor": 4
}
