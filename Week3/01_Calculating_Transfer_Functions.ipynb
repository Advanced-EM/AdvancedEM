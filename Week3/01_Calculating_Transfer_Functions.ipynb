{
 "cells": [
  {
   "cell_type": "markdown",
   "metadata": {},
   "source": [
    "# Plotting Transfer Functions\n",
    "\n",
    "**Roberto dos Reis**<br>\n",
    "Northwestern University\n",
    "\n",
    "\n",
    "Calculate CTEM bright field phase contrast transfer function with partial coherence for weak phase objects\n",
    "\n",
    "\n",
    "**References:** <br>\n",
    "R.H. Wade, J. Frank, Optik, 49 (1977), p. 81\n",
    "Ishizuka, K., 1980. Contrast transfer of crystal images in TEM. Ultramicroscopy, 5(1-3), pp.55-65."
   ]
  },
  {
   "cell_type": "markdown",
   "metadata": {},
   "source": [
    "### Load necessary packages:"
   ]
  },
  {
   "cell_type": "code",
   "execution_count": 12,
   "metadata": {},
   "outputs": [],
   "source": [
    "# Numeric operations\n",
    "import numpy as np\n",
    "\n",
    "# Visualization / Plotting\n",
    "import matplotlib\n",
    "from matplotlib import pyplot as plt\n",
    "from matplotlib.patches import Rectangle\n",
    "import seaborn as sns\n",
    "\n",
    "# for math functions\n",
    "import scipy.special as sp\n",
    "from scipy.interpolate import interp1d\n",
    "\n",
    "# for complex numbers operations\n",
    "import cmath \n",
    "import math \n",
    "\n",
    "\n",
    "# Ensure that images are rendered in this notebook:\n",
    "%matplotlib inline"
   ]
  },
  {
   "cell_type": "markdown",
   "metadata": {},
   "source": [
    "## Input microscope parameters"
   ]
  },
  {
   "cell_type": "code",
   "execution_count": 13,
   "metadata": {},
   "outputs": [],
   "source": [
    "def ctemh(k,params, type):\n",
    "    Cs3 = params[0]*1.0e7\n",
    "    Cs5 = params[1]*1.0e7\n",
    "    df = params[2]\n",
    "    kev = params[3]\n",
    "    ddf = params[4]\n",
    "    beta = params[5]*0.001\n",
    "    mo = 511.0 # electron rest mass in keV\n",
    "    hc = 12.3986 # in keV-Angstroms\n",
    "    wav = (2*mo)+kev;\n",
    "    wav = hc/np.sqrt(wav*kev)\n",
    "    wavsq = wav*wav;\n",
    "    \n",
    "    w1 = np.pi*Cs3*wavsq*wav\n",
    "    w2 = np.pi*wav*df;\n",
    "    w3 = np.pi*Cs5*wavsq*wavsq*wav\n",
    "    e0 = (np.pi*beta*ddf)**2\n",
    "    k2 = k*k\n",
    "    \n",
    "    wr = ((w3*k2+w1)*k2-w2)*k*beta/wav\n",
    "    wi = np.pi*wav*ddf*k2\n",
    "    wi = wr*wr + 0.25*wi*wi\n",
    "    wi = np.exp(-wi/(1+e0*k2))\n",
    "    wr = w3*(1-2.0*e0*k2)/3.0\n",
    "    wr = wr*k2 + 0.5*w1*(1-e0*k2)\n",
    "    wr = (wr*k2 - w2)*k2/(1+e0*k2);\n",
    "    if type == 0:\n",
    "        y = np.sin(wr)* wi\n",
    "    else:\n",
    "        y = np.cos(wr)* wi\n",
    "        \n",
    "    return y"
   ]
  },
  {
   "cell_type": "markdown",
   "metadata": {},
   "source": [
    "### Calculate CTEM Transfer functions\n",
    "\n",
    "Cs3,5 = Spherical Aberrations<br>\n",
    "df = defocus<br>\n",
    "kev = electron energy in keV<br>\n",
    "ddf = chromatic aberation defocus spread<br>\n",
    "beta =  spread in illumination angles<br>"
   ]
  },
  {
   "cell_type": "code",
   "execution_count": 14,
   "metadata": {},
   "outputs": [
    {
     "name": "stdout",
     "output_type": "stream",
     "text": [
      "Plot CTEM transfer function\n",
      "Type electron energy in keV :\n"
     ]
    },
    {
     "ename": "ValueError",
     "evalue": "could not convert string to float: ",
     "output_type": "error",
     "traceback": [
      "\u001b[1;31m---------------------------------------------------------------------------\u001b[0m",
      "\u001b[1;31mValueError\u001b[0m                                Traceback (most recent call last)",
      "\u001b[1;32m<ipython-input-14-303a35327bac>\u001b[0m in \u001b[0;36m<module>\u001b[1;34m()\u001b[0m\n\u001b[0;32m      1\u001b[0m \u001b[0mprint\u001b[0m\u001b[1;33m(\u001b[0m \u001b[1;34m'Plot CTEM transfer function'\u001b[0m \u001b[1;33m)\u001b[0m\u001b[1;33m\u001b[0m\u001b[0m\n\u001b[1;32m----> 2\u001b[1;33m \u001b[0mkev\u001b[0m\u001b[1;33m=\u001b[0m \u001b[0mfloat\u001b[0m\u001b[1;33m(\u001b[0m\u001b[0minput\u001b[0m\u001b[1;33m(\u001b[0m \u001b[1;34m'Type electron energy in keV :'\u001b[0m\u001b[1;33m)\u001b[0m\u001b[1;33m)\u001b[0m\u001b[1;33m\u001b[0m\u001b[0m\n\u001b[0m\u001b[0;32m      3\u001b[0m \u001b[0mCs3\u001b[0m\u001b[1;33m=\u001b[0m \u001b[0mfloat\u001b[0m\u001b[1;33m(\u001b[0m\u001b[0minput\u001b[0m\u001b[1;33m(\u001b[0m \u001b[1;34m'Type spherical aberation Cs3 in mm :'\u001b[0m\u001b[1;33m)\u001b[0m\u001b[1;33m)\u001b[0m\u001b[1;33m\u001b[0m\u001b[0m\n\u001b[0;32m      4\u001b[0m \u001b[0mCs5\u001b[0m\u001b[1;33m=\u001b[0m \u001b[0mfloat\u001b[0m\u001b[1;33m(\u001b[0m\u001b[0minput\u001b[0m\u001b[1;33m(\u001b[0m \u001b[1;34m'Type spherical aberation Cs5 in mm :'\u001b[0m\u001b[1;33m)\u001b[0m\u001b[1;33m)\u001b[0m\u001b[1;33m\u001b[0m\u001b[0m\n\u001b[0;32m      5\u001b[0m \u001b[0mdf\u001b[0m\u001b[1;33m=\u001b[0m \u001b[0mfloat\u001b[0m\u001b[1;33m(\u001b[0m\u001b[0minput\u001b[0m\u001b[1;33m(\u001b[0m \u001b[1;34m'Type defocus df in Angstroms :'\u001b[0m\u001b[1;33m)\u001b[0m\u001b[1;33m)\u001b[0m\u001b[1;33m\u001b[0m\u001b[0m\n",
      "\u001b[1;31mValueError\u001b[0m: could not convert string to float: "
     ]
    }
   ],
   "source": [
    "print( 'Plot CTEM transfer function' )\n",
    "kev= float(input( 'Type electron energy in keV :'))\n",
    "Cs3= float(input( 'Type spherical aberation Cs3 in mm :'))\n",
    "Cs5= float(input( 'Type spherical aberation Cs5 in mm :'))\n",
    "df= float(input( 'Type defocus df in Angstroms :'))\n",
    "ddf= float(input( 'Type defocus spread ddf in Angstroms :'))\n",
    "beta= float(input( 'Type illumination semiangle in mrad :'))\n",
    "type= float(input( 'Type 0 for phase contrast, 1 for amplitude:' ))"
   ]
  },
  {
   "cell_type": "code",
   "execution_count": 15,
   "metadata": {},
   "outputs": [],
   "source": [
    "# electron wavelength\n",
    "wav = 12.3986/np.sqrt((2*511.0 + kev)*kev);\n",
    "ds = np.sqrt(np.sqrt(Cs3*1.0e7*wav*wav*wav ));\n",
    "\n",
    "kmax = 2.5/ds;\n",
    "k = np.linspace(0, kmax, num=500)\n",
    "\n",
    "params = [Cs3, Cs5, df, kev, ddf, beta ];\n",
    "sinw = ctemh(k, params,type);"
   ]
  },
  {
   "cell_type": "code",
   "execution_count": 16,
   "metadata": {},
   "outputs": [
    {
     "data": {
      "image/png": "[encoded data removed]",
      "text/plain": [
       "<Figure size 432x288 with 1 Axes>"
      ]
     },
     "metadata": {
      "needs_background": "light"
     },
     "output_type": "display_data"
    }
   ],
   "source": [
    "fig, ax = plt.subplots(figsize=(6, 4))\n",
    "plt_handle = ax.plot(k,sinw, 'k')\n",
    "ax.set_title(f'E = {params[3]} keV, Cs3 = {params[0]} mm, Cs5={params[3]} mm, df = {params[2]} A'\n",
    "             +\"\\n\"+\n",
    "            f'Beta= {params[5]}mrad,ddf={params[3]}A, fontSize = 12')\n",
    "\n",
    "ax.set_ylabel(r'MTF', fontsize=15)\n",
    "ax.set_xlabel(r'Spatial Frequency', fontsize=15)\n",
    "# ax.set_title('Volume and percent change')\n",
    "\n",
    "ax.grid(True)\n",
    "fig.tight_layout()\n",
    "plt.show()"
   ]
  },
  {
   "cell_type": "markdown",
   "metadata": {},
   "source": [
    "## Reading file containing atomic positions\n",
    "\n",
    "Create atomic coordinates for use in multislice simulation."
   ]
  },
  {
   "cell_type": "code",
   "execution_count": 11,
   "metadata": {},
   "outputs": [
    {
     "name": "stdout",
     "output_type": "stream",
     "text": [
      "[[14.        0.        0.        0.        1.        0.      ]\n",
      " [14.        0.        1.3575    0.        1.        0.      ]\n",
      " [14.        1.919795  2.715     0.        1.        0.      ]\n",
      " ...\n",
      " [14.       23.037539 23.0775    2.715     1.        0.      ]\n",
      " [14.       24.957334 24.435     2.715     1.        0.      ]\n",
      " [14.       24.957334 25.7925    2.715     1.        0.      ]]\n"
     ]
    }
   ],
   "source": [
    "cellDim = [26.877129, 27.15, 5.43]\n",
    "\n",
    "filename = 'Si_7x5.dat'\n",
    "atoms = np.loadtxt(filename, delimiter=',')\n",
    "\n",
    "print (atoms)"
   ]
  },
  {
   "cell_type": "code",
   "execution_count": null,
   "metadata": {},
   "outputs": [],
   "source": []
  }
 ],
 "metadata": {
  "kernelspec": {
   "display_name": "Python 3",
   "language": "python",
   "name": "python3"
  },
  "language_info": {
   "codemirror_mode": {
    "name": "ipython",
    "version": 3
   },
   "file_extension": ".py",
   "mimetype": "text/x-python",
   "name": "python",
   "nbconvert_exporter": "python",
   "pygments_lexer": "ipython3",
   "version": "3.7.6"
  }
 },
 "nbformat": 4,
 "nbformat_minor": 4
}
