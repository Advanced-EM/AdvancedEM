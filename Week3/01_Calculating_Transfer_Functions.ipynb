{
 "cells": [
  {
   "cell_type": "markdown",
   "metadata": {},
   "source": [
    "# Plotting Transfer Functions\n",
    "\n",
    "**Roberto dos Reis**<br>\n",
    "Northwestern University\n",
    "\n",
    "\n",
    "Calculate CTEM bright field phase contrast transfer function with partial coherence for weak phase objects\n",
    "\n",
    "\n",
    "**References:** <br>\n",
    "R.H. Wade, J. Frank, Optik, 49 (1977), p. 81\n",
    "Ishizuka, K., 1980. Contrast transfer of crystal images in TEM. Ultramicroscopy, 5(1-3), pp.55-65."
   ]
  },
  {
   "cell_type": "markdown",
   "metadata": {},
   "source": [
    "### Load necessary packages:"
   ]
  },
  {
   "cell_type": "code",
   "execution_count": 5,
   "metadata": {},
   "outputs": [],
   "source": [
    "# Numeric operations\n",
    "import numpy as np\n",
    "\n",
    "# Visualization / Plotting\n",
    "import matplotlib\n",
    "from matplotlib import pyplot as plt\n",
    "from matplotlib.patches import Rectangle\n",
    "import seaborn as sns\n",
    "\n",
    "# for math functions\n",
    "import scipy.special as sp\n",
    "from scipy.interpolate import interp1d\n",
    "# for complex numbers operations\n",
    "import cmath \n",
    "import math \n",
    "\n",
    "\n",
    "# Ensure that images are rendered in this notebook:\n",
    "%matplotlib inline"
   ]
  },
  {
   "cell_type": "markdown",
   "metadata": {},
   "source": [
    "## Input microscope parameters"
   ]
  },
  {
   "cell_type": "code",
   "execution_count": null,
   "metadata": {},
   "outputs": [],
   "source": [
    "def ctemh(k,params, type):\n",
    "    Cs3 = params[0]*1.0e7\n",
    "    Cs5 = params[1]*1.0e7\n",
    "    df = params[2]\n",
    "    kev = params[3]\n",
    "    ddf = params[4]\n",
    "    beta = params[5]*0.001\n",
    "    mo = 511.0 # electron rest mass in keV\n",
    "    hc = 12.3986 # in keV-Angstroms\n",
    "    wav = (2*mo)+kev;\n",
    "    wav = hc/np.sqrt(wav*kev)\n",
    "    wavsq = wav*wav;\n",
    "    \n",
    "    w1 = np.pi*Cs3*wavsq*wav\n",
    "    w2 = np.pi*wav*df;\n",
    "    w3 = np.pi*Cs5*wavsq*wavsq*wav\n",
    "    e0 = (np.pi*beta*ddf)**2\n",
    "    k2 = k*k\n",
    "    \n",
    "    wr = ((w3*k2+w1)*k2-w2)*k*beta/wav\n",
    "    wi = np.pi*wav*ddf*k2\n",
    "    wi = wr*wr + 0.25*wi*wi\n",
    "    wi = np.exp(-wi/(1+e0*k2))\n",
    "    wr = w3*(1-2.0*e0*k2)/3.0\n",
    "    wr = wr*k2 + 0.5*w1*(1-e0*k2)\n",
    "    wr = (wr*k2 - w2)*k2/(1+e0*k2);\n",
    "    if type == 0:\n",
    "        y = np.sin(wr)* wi\n",
    "    else:\n",
    "        y = np.cos(wr)* wi\n",
    "        \n",
    "    return y"
   ]
  },
  {
   "cell_type": "markdown",
   "metadata": {},
   "source": [
    "### Calculate CTEM Transfer functions\n",
    "\n",
    "Cs3,5 = Spherical Aberrations<br>\n",
    "df = defocus<br>\n",
    "kev = electron energy in keV<br>\n",
    "ddf = chromatic aberation defocus spread<br>\n",
    "beta =  spread in illumination angles<br>"
   ]
  },
  {
   "cell_type": "code",
   "execution_count": null,
   "metadata": {},
   "outputs": [],
   "source": [
    "print( 'Plot CTEM transfer function' )\n",
    "kev= float(input( 'Type electron energy in keV :'))\n",
    "Cs3= float(input( 'Type spherical aberation Cs3 in mm :'))\n",
    "Cs5= float(input( 'Type spherical aberation Cs5 in mm :'))\n",
    "df= float(input( 'Type defocus df in Angstroms :'))\n",
    "ddf= float(input( 'Type defocus spread ddf in Angstroms :'))\n",
    "beta= float(input( 'Type illumination semiangle in mrad :'))\n",
    "type= float(input( 'Type 0 for phase contrast, 1 for amplitude:' ))"
   ]
  },
  {
   "cell_type": "code",
   "execution_count": null,
   "metadata": {},
   "outputs": [],
   "source": [
    "# electron wavelength\n",
    "wav = 12.3986/np.sqrt((2*511.0 + kev)*kev);\n",
    "ds = np.sqrt(np.sqrt(Cs3*1.0e7*wav*wav*wav ));\n",
    "\n",
    "kmax = 2.5/ds;\n",
    "k = np.linspace(0, kmax, num=500)\n",
    "\n",
    "params = [Cs3, Cs5, df, kev, ddf, beta ];\n",
    "sinw = ctemh(k, params,type);"
   ]
  },
  {
   "cell_type": "code",
   "execution_count": null,
   "metadata": {},
   "outputs": [],
   "source": [
    "fig, ax = plt.subplots(figsize=(6, 4))\n",
    "plt_handle = ax.plot(k,sinw, 'k')\n",
    "ax.set_title(f'E = {params[3]} keV, Cs3 = {params[0]} mm, Cs5={params[3]} mm, df = {params[2]} A'\n",
    "             +\"\\n\"+\n",
    "            f'Beta= {params[5]}mrad,ddf={params[3]}A, fontSize = 12')\n",
    "\n",
    "ax.set_ylabel(r'MTF', fontsize=15)\n",
    "ax.set_xlabel(r'Spatial Frequency', fontsize=15)\n",
    "# ax.set_title('Volume and percent change')\n",
    "\n",
    "ax.grid(True)\n",
    "fig.tight_layout()\n",
    "plt.show()"
   ]
  },
  {
   "cell_type": "markdown",
   "metadata": {},
   "source": [
    "### Calculate STEM Probe Profile\n",
    "\n",
    "Cs3,5 = Spherical Aberrations<br>\n",
    "df = defocus<br>\n",
    "kev = electron energy in keV<br>\n",
    "ddf = chromatic aberation defocus spread<br>\n",
    "beta =  spread in illumination angles<br>"
   ]
  },
  {
   "cell_type": "code",
   "execution_count": 59,
   "metadata": {},
   "outputs": [
    {
     "name": "stdout",
     "output_type": "stream",
     "text": [
      "Type electron energy in keV : 200\n",
      "Type spherical aberration Cs3 in mm : 1.3\n",
      "Type spherical aberration Cs5 in mm : 0\n",
      "Type defocus df in Angstroms : 700\n",
      "Type obj. apert. semiangle in mrad : 10\n",
      "Type source size in Angstroms: 1\n"
     ]
    }
   ],
   "source": [
    "pkev = float(input( 'Type electron energy in keV : '))\n",
    "pCs3 = abs(float(input( 'Type spherical aberration Cs3 in mm : ')))\n",
    "pCs5 = float(input( 'Type spherical aberration Cs5 in mm : '))\n",
    "pdf = float(input( 'Type defocus df in Angstroms : '))\n",
    "pamax = float(input( 'Type obj. apert. semiangle in mrad : '))\n",
    "pd0 = float(input('Type source size in Angstroms: '))"
   ]
  },
  {
   "cell_type": "code",
   "execution_count": 60,
   "metadata": {},
   "outputs": [],
   "source": [
    "probe_params = [pkev, pCs3, pCs5, pdf, pamax, pd0];"
   ]
  },
  {
   "cell_type": "code",
   "execution_count": 69,
   "metadata": {},
   "outputs": [],
   "source": [
    "def stemhr(r,params,nk):\n",
    "    P2 = 2*np.pi\n",
    "    kev = params[0]\n",
    "    Cs3 = params[1]*1.0e7\n",
    "    Cs5 = params[2]*1.0e7\n",
    "    df =  params[3]\n",
    "    amax = params[4]*0.001\n",
    "    d0 = params[5]\n",
    "    \n",
    "    #electron wavelength\n",
    "    wav = 12.3986/np.sqrt((2*511.0+kev)*kev)\n",
    "    kmax = amax/wav\n",
    "    dk = kmax/nk\n",
    "    k = np.linspace(0, kmax, num=nk)\n",
    "    k2 = k*k\n",
    "    w1 = 0.5*Cs*wav*wav*wav\n",
    "    w2 = wav*df\n",
    "    w = np.pi*(w1*k2-w2 )*k2\n",
    "    expw = np.exp(-1j*w )\n",
    "    \n",
    "    nr = len(r)\n",
    "    dr = r[nr-1]/nr\n",
    "    psf = np.zeros((nr,), dtype=int)\n",
    "    #tabulate besselj0 on a grid 5 times finer than nk\n",
    "    bmax = 2*np.pi*r[nr-1]*kmax\n",
    "    db = bmax/(5*nk)\n",
    "    b = np.linspace(0, bmax, num=int(bmax/db))\n",
    "    bessj0 = sp.jv(0,b)\n",
    "    \n",
    "    for ir in range(1, nr):\n",
    "#         P2*r[ir-1]*k\n",
    "        h = expw*interp1d(b,bessj0,'cubic')*k\n",
    "        psf[ir] = np.abs(np.sum(h)**2)*2/(nk*np.pi)\n",
    "            \n",
    "    psf[nr-1]=0\n",
    "    k = np.linspace(0,2*kmax, num = int(kmax/dk))\n",
    "    nk = len(k)\n",
    "    \n",
    "    for ik in range(0, nk):\n",
    "#         P2*r*k[ik]\n",
    "        h = psf.transpose *interp1d(b,bessj0,'cubic')*r\n",
    "        mtf[ik]=np.sum(h)\n",
    "        # damp by source spread\n",
    "                \n",
    "    mtf = mtf*np.exp(-0.5*(k*d0/P2)**2)\n",
    "    \n",
    "    #transform mtf back to psf \n",
    "    for ir in range(1, nr):\n",
    "#         P2*r[ir-1]*k\n",
    "        h = mtf*interp1d(b,bessj0,'cubic')*k\n",
    "        psf[ir-1]= np.sum(h)/(nk*np.pi)\n",
    "        psf[nr-1]=0\n",
    "                    \n",
    "    nrm = 2*np.pi*np.sum(psf*r.transpose)*dr\n",
    "    psf = psf/nrm\n",
    "    \n",
    "    return psf"
   ]
  },
  {
   "cell_type": "code",
   "execution_count": 70,
   "metadata": {},
   "outputs": [
    {
     "ename": "TypeError",
     "evalue": "unsupported operand type(s) for *: 'complex' and 'interp1d'",
     "output_type": "error",
     "traceback": [
      "\u001b[1;31m---------------------------------------------------------------------------\u001b[0m",
      "\u001b[1;31mTypeError\u001b[0m                                 Traceback (most recent call last)",
      "\u001b[1;32m<ipython-input-70-2452bfe89093>\u001b[0m in \u001b[0;36m<module>\u001b[1;34m\u001b[0m\n\u001b[0;32m     12\u001b[0m \u001b[1;33m\u001b[0m\u001b[0m\n\u001b[0;32m     13\u001b[0m \u001b[1;31m#Calling stemhr function here\u001b[0m\u001b[1;33m\u001b[0m\u001b[1;33m\u001b[0m\u001b[1;33m\u001b[0m\u001b[0m\n\u001b[1;32m---> 14\u001b[1;33m \u001b[0mpsf\u001b[0m \u001b[1;33m=\u001b[0m \u001b[0mstemhr\u001b[0m\u001b[1;33m(\u001b[0m\u001b[0mr\u001b[0m\u001b[1;33m,\u001b[0m\u001b[0mprobe_params\u001b[0m\u001b[1;33m,\u001b[0m\u001b[0mnpts\u001b[0m\u001b[1;33m)\u001b[0m\u001b[1;33m;\u001b[0m\u001b[1;33m\u001b[0m\u001b[1;33m\u001b[0m\u001b[0m\n\u001b[0m",
      "\u001b[1;32m<ipython-input-69-94f78a677f83>\u001b[0m in \u001b[0;36mstemhr\u001b[1;34m(r, params, nk)\u001b[0m\n\u001b[0;32m     30\u001b[0m     \u001b[1;32mfor\u001b[0m \u001b[0mir\u001b[0m \u001b[1;32min\u001b[0m \u001b[0mrange\u001b[0m\u001b[1;33m(\u001b[0m\u001b[1;36m1\u001b[0m\u001b[1;33m,\u001b[0m \u001b[0mnr\u001b[0m\u001b[1;33m)\u001b[0m\u001b[1;33m:\u001b[0m\u001b[1;33m\u001b[0m\u001b[1;33m\u001b[0m\u001b[0m\n\u001b[0;32m     31\u001b[0m \u001b[1;31m#         P2*r[ir-1]*k\u001b[0m\u001b[1;33m\u001b[0m\u001b[1;33m\u001b[0m\u001b[1;33m\u001b[0m\u001b[0m\n\u001b[1;32m---> 32\u001b[1;33m         \u001b[0mh\u001b[0m \u001b[1;33m=\u001b[0m \u001b[0mexpw\u001b[0m\u001b[1;33m*\u001b[0m\u001b[0minterp1d\u001b[0m\u001b[1;33m(\u001b[0m\u001b[0mb\u001b[0m\u001b[1;33m,\u001b[0m\u001b[0mbessj0\u001b[0m\u001b[1;33m,\u001b[0m\u001b[1;34m'cubic'\u001b[0m\u001b[1;33m)\u001b[0m\u001b[1;33m*\u001b[0m\u001b[0mk\u001b[0m\u001b[1;33m\u001b[0m\u001b[1;33m\u001b[0m\u001b[0m\n\u001b[0m\u001b[0;32m     33\u001b[0m         \u001b[0mpsf\u001b[0m\u001b[1;33m[\u001b[0m\u001b[0mir\u001b[0m\u001b[1;33m]\u001b[0m \u001b[1;33m=\u001b[0m \u001b[0mnp\u001b[0m\u001b[1;33m.\u001b[0m\u001b[0mabs\u001b[0m\u001b[1;33m(\u001b[0m\u001b[0mnp\u001b[0m\u001b[1;33m.\u001b[0m\u001b[0msum\u001b[0m\u001b[1;33m(\u001b[0m\u001b[0mh\u001b[0m\u001b[1;33m)\u001b[0m\u001b[1;33m**\u001b[0m\u001b[1;36m2\u001b[0m\u001b[1;33m)\u001b[0m\u001b[1;33m*\u001b[0m\u001b[1;36m2\u001b[0m\u001b[1;33m/\u001b[0m\u001b[1;33m(\u001b[0m\u001b[0mnk\u001b[0m\u001b[1;33m*\u001b[0m\u001b[0mnp\u001b[0m\u001b[1;33m.\u001b[0m\u001b[0mpi\u001b[0m\u001b[1;33m)\u001b[0m\u001b[1;33m\u001b[0m\u001b[1;33m\u001b[0m\u001b[0m\n\u001b[0;32m     34\u001b[0m \u001b[1;33m\u001b[0m\u001b[0m\n",
      "\u001b[1;31mTypeError\u001b[0m: unsupported operand type(s) for *: 'complex' and 'interp1d'"
     ]
    }
   ],
   "source": [
    "wav = 12.3986/np.sqrt((2*511.0+probe_params[0])*probe_params[0]);\n",
    "# Cs = abs(probe_params[1])\n",
    "\n",
    "if(Cs<0.1):\n",
    "    Cs = 0.1\n",
    "    end\n",
    "    \n",
    "rmax = np.sqrt(np.sqrt(Cs*1.0e7*wav*wav*wav))\n",
    "\n",
    "npts=300 #number of points in curve\n",
    "r=np.linspace(0,rmax,num=npts)\n",
    "\n",
    "#Calling stemhr function here\n",
    "psf = stemhr(r,probe_params,npts);"
   ]
  },
  {
   "cell_type": "code",
   "execution_count": null,
   "metadata": {},
   "outputs": [],
   "source": [
    "plot(r,psf);\n",
    "xlabel('radius in Angstroms');\n",
    "ylabel('PSF');"
   ]
  },
  {
   "cell_type": "code",
   "execution_count": null,
   "metadata": {},
   "outputs": [],
   "source": [
    "plt.scatter(k,wr)"
   ]
  },
  {
   "cell_type": "markdown",
   "metadata": {},
   "source": [
    "## Reading file containing atomic positions\n",
    "\n",
    "Create atomic coordinates for use in multislice simulation."
   ]
  },
  {
   "cell_type": "code",
   "execution_count": null,
   "metadata": {},
   "outputs": [],
   "source": [
    "cellDim = [26.877129, 27.15, 5.43]\n",
    "\n",
    "filename = 'Si_7x5.dat'\n",
    "atoms = np.loadtxt(filename, delimiter=',')\n",
    "\n",
    "print (atoms)"
   ]
  },
  {
   "cell_type": "code",
   "execution_count": null,
   "metadata": {},
   "outputs": [],
   "source": []
  },
  {
   "cell_type": "code",
   "execution_count": null,
   "metadata": {},
   "outputs": [],
   "source": []
  },
  {
   "cell_type": "code",
   "execution_count": null,
   "metadata": {},
   "outputs": [],
   "source": [
    "# projected potential"
   ]
  },
  {
   "cell_type": "code",
   "execution_count": null,
   "metadata": {},
   "outputs": [],
   "source": [
    "function V = tempot(xmax,ymax,nx,ny,potfile)\n",
    "\n",
    "%  TEMPOT Generate a Projected Potential suitable for TEM,  i.e intensity is proportional to Z^1/3\n",
    "%  V = stempot(xmax,ymax,nx,ny,potfile)\n",
    "%  inputs xmax, ymax are the size of the slice in angstroms\n",
    "%  nx,ny are the number of pixels in the x and y directions \n",
    "%\n",
    "%  started 10-Apr-1997 David Muller \n",
    "%\n",
    "zed = 0.67;  % zed=2 for rutherford scattering of the nucleus, less for screening\n",
    "\n",
    "ix = 1:nx;\n",
    "iy = 1:ny;\n",
    "dx = xmax/(nx-1);\n",
    "dy = ymax/(ny-1);\n",
    "rx = 0:dx:xmax-dx;\n",
    "ry = 0:dy:ymax-dy;\n",
    "\n",
    "if isstr( potfile)  \n",
    "   A = readxyz( potfile);\n",
    "else\n",
    "   A = potfile;   % passed a variable instead\n",
    "end;\n",
    "\n",
    "Zatom = A.Znum;\n",
    "ax    = A.xpos;\n",
    "ay    = A.ypos;\n",
    "az    = A.zpos;\n",
    "wt    = A.wt;\n",
    "amax = length(Zatom);\n",
    "\n",
    "% find boundaries of slice\n",
    "axmin = min(ax);\n",
    "axmax = max(ax);\n",
    "aymin = min(ay);\n",
    "aymax = max(ay);\n",
    "% shift coords to fit in box\n",
    "ax = ax - axmin;\n",
    "ay = ay - aymin;\n",
    "\n",
    "\n",
    "V= zeros(nx,ny);\n",
    "\n",
    "% map x and y coords of the atoms to the nearest grid points\n",
    "% A fraction of the atom must be assigned to the closest gridpoints\n",
    "% to avoid sum and difference frequencies appearing in the image\n",
    "\n",
    "iax = max(1,min(floor( ax/dx)+1,nx));      % grid point to the left of the atom\n",
    "%jax = interp1( rx,ix,ax, 'linear');\n",
    "ibx = mod(iax,nx) + 1;      % create periodic boundary conditions\n",
    "\n",
    "fax = 1-mod( (ax /dx ),1 );  % fraction of atom at iax \n",
    "%fbx = 1 - fax;            % fraction of atom at (1-fax) is at iax+1\n",
    "\n",
    "iay = max(1,min(floor( ay/dy)+1,ny));      % grid point above the atom\n",
    "%jay = interp1( ry,iy,ay, 'linear');\n",
    "\n",
    "iby = mod(iay,ny) +1;          % create periodic boundary conditions\n",
    "\n",
    "fay = 1-mod( (ay /dy ),1 ); % fraction of atom at iay \n",
    "%fby = 1 - fay;            % fraction of atom at (1-fay) is at iay+1\n",
    "\n",
    "% Add each atom to the potential grid\n",
    "% j is too large to makegrid(iax,iay) which would allow us to vectorize V\n",
    "%\n",
    "\n",
    "V1 = fax .* fay .* (Zatom .^zed);\n",
    "V2 = (1-fax) .* fay .* (Zatom .^zed);\n",
    "V3 = fax .* (1-fay) .* (Zatom .^zed);\n",
    "V4 = (1-fax) .* (1-fay) .* (Zatom .^zed);\n",
    "\n",
    "for j=1:amax,\n",
    "   V(iax(j),iay(j)) = V(iax(j),iay(j)) + V1(j);\n",
    "   V(ibx(j),iay(j)) = V(ibx(j),iay(j)) + V2(j);\n",
    "   V(iax(j),iby(j)) = V(iax(j),iby(j)) + V3(j);\n",
    "   V(ibx(j),iby(j)) = V(ibx(j),iby(j)) + V4(j);\n",
    "end;"
   ]
  },
  {
   "cell_type": "code",
   "execution_count": null,
   "metadata": {},
   "outputs": [],
   "source": []
  },
  {
   "cell_type": "code",
   "execution_count": null,
   "metadata": {},
   "outputs": [],
   "source": []
  },
  {
   "cell_type": "code",
   "execution_count": null,
   "metadata": {},
   "outputs": [],
   "source": []
  },
  {
   "cell_type": "code",
   "execution_count": null,
   "metadata": {},
   "outputs": [],
   "source": []
  },
  {
   "cell_type": "code",
   "execution_count": null,
   "metadata": {},
   "outputs": [],
   "source": [
    "# TEMcon"
   ]
  }
 ],
 "metadata": {
  "kernelspec": {
   "display_name": "Python 3",
   "language": "python",
   "name": "python3"
  },
  "language_info": {
   "codemirror_mode": {
    "name": "ipython",
    "version": 3
   },
   "file_extension": ".py",
   "mimetype": "text/x-python",
   "name": "python",
   "nbconvert_exporter": "python",
   "pygments_lexer": "ipython3",
   "version": "3.7.6"
  }
 },
 "nbformat": 4,
 "nbformat_minor": 4
}
