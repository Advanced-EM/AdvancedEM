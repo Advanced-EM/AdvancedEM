{
 "cells": [
  {
   "cell_type": "markdown",
   "metadata": {},
   "source": [
    "### Make a graphene sheet for (S)TEM simulations\n",
    "\n",
    "**Roberto dos Reis**<br>\n",
    "Northwestern University\n",
    "\n",
    "- Function to create and plot a square-(ish) sheet of graphene for simuluations\n",
    "- It has options to replace some C atoms with others in defect sites in the sheet"
   ]
  },
  {
   "cell_type": "markdown",
   "metadata": {},
   "source": [
    "### Loading Packages"
   ]
  },
  {
   "cell_type": "code",
   "execution_count": 1,
   "metadata": {},
   "outputs": [],
   "source": [
    "# Numeric operations\n",
    "import numpy as np\n",
    "\n",
    "# Visualization / Plotting\n",
    "import matplotlib\n",
    "from matplotlib import pyplot as plt\n",
    "from matplotlib.patches import Rectangle\n",
    "import plotly.express as px\n",
    "\n",
    "# fig = px.scatter_3d(df, x='sepal_length', y='sepal_width', z='petal_width',\n",
    "#               color='species')\n",
    "# fig.show()\n",
    "\n",
    "\n",
    "# Ensure that images are rendered in this notebook:\n",
    "%matplotlib inline"
   ]
  },
  {
   "cell_type": "code",
   "execution_count": 2,
   "metadata": {},
   "outputs": [],
   "source": [
    "# desired cell size in Angstroms\n",
    "cellSize = np.array([50, 50, 2*3.2])\n",
    "\n",
    "# Carbon atomic number\n",
    "ID=6\n",
    "\n",
    "# Debye Waller RMS deviation\n",
    "u = 0.1"
   ]
  },
  {
   "cell_type": "code",
   "execution_count": 3,
   "metadata": {},
   "outputs": [
    {
     "data": {
      "text/plain": [
       "array([12, 20])"
      ]
     },
     "execution_count": 3,
     "metadata": {},
     "output_type": "execute_result"
    }
   ],
   "source": [
    "#Graphene C-C bond\n",
    "aGraphene = 1.42\n",
    "\n",
    "basis = np.array([[1/6, 0.2],\n",
    "                 [1/3, 1/2],\n",
    "                 [2/3, 1/2],\n",
    "                 [5/6, 0/2]])\n",
    "aG = np.array([3, np.sqrt(3)])*aGraphene\n",
    "\n",
    "#Number of Unit Cells\n",
    "numUCs = np.around(cellSize[0:2]/aG).astype(int)\n",
    "numUCs"
   ]
  },
  {
   "cell_type": "code",
   "execution_count": 10,
   "metadata": {},
   "outputs": [
    {
     "data": {
      "text/plain": [
       "array([ 0,  1,  2,  3,  4,  5,  6,  7,  8,  9, 10, 11, 12, 13, 14, 15, 16,\n",
       "       17, 18, 19])"
      ]
     },
     "execution_count": 10,
     "metadata": {},
     "output_type": "execute_result"
    }
   ],
   "source": [
    "ax = np.arange(0,numUCs[1])\n",
    "ax"
   ]
  },
  {
   "cell_type": "code",
   "execution_count": 17,
   "metadata": {},
   "outputs": [],
   "source": [
    "#tile unit cells\n",
    "# ax = np.linspace(0, numUCs[1]-1, numUCs[1], endpoint=True)\n",
    "ax = np.arange(0,numUCs[1])\n",
    "bx = np.arange(0,numUCs[0])\n",
    "# bx = np.arange(1,basis[:,1].size,1) #np.linspace(0, numUCs[0]-1, numUCs[0], endpoint=True)\n",
    "\n",
    "# cx = np.linspace(1,basis[1,:].size, basis[:,1].size, endpoint=True)\n",
    "cx = np.arange(0,basis[:,1].size)\n",
    "\n",
    "bInd, aInd, basisInd = np.meshgrid(ax,bx,cx)\n",
    "basisInd = basisInd.astype(int)"
   ]
  },
  {
   "cell_type": "code",
   "execution_count": null,
   "metadata": {},
   "outputs": [],
   "source": []
  },
  {
   "cell_type": "code",
   "execution_count": 18,
   "metadata": {},
   "outputs": [
    {
     "data": {
      "text/plain": [
       "((12, 20, 4), (12, 20, 4), (12, 20, 4))"
      ]
     },
     "execution_count": 18,
     "metadata": {},
     "output_type": "execute_result"
    }
   ],
   "source": [
    "bInd.shape, aInd.shape, basisInd.shape"
   ]
  },
  {
   "cell_type": "code",
   "execution_count": 57,
   "metadata": {},
   "outputs": [
    {
     "data": {
      "text/plain": [
       "(960, 2)"
      ]
     },
     "execution_count": 57,
     "metadata": {},
     "output_type": "execute_result"
    }
   ],
   "source": [
    "basis[basisInd[:]-1,].shape"
   ]
  },
  {
   "cell_type": "code",
   "execution_count": 68,
   "metadata": {},
   "outputs": [
    {
     "data": {
      "text/plain": [
       "(960,)"
      ]
     },
     "execution_count": 68,
     "metadata": {},
     "output_type": "execute_result"
    }
   ],
   "source": [
    "bInd.shape"
   ]
  },
  {
   "cell_type": "code",
   "execution_count": 69,
   "metadata": {},
   "outputs": [],
   "source": [
    "bInd = bInd.flatten('F')\n",
    "aInd = aInd.flatten('F')\n",
    "basisInd = basisInd.flatten('F')"
   ]
  },
  {
   "cell_type": "code",
   "execution_count": 70,
   "metadata": {},
   "outputs": [
    {
     "data": {
      "text/plain": [
       "(2, 960)"
      ]
     },
     "execution_count": 70,
     "metadata": {},
     "output_type": "execute_result"
    }
   ],
   "source": [
    "ab = np.array([aInd, bInd])+ basis[basisInd[:]-1,1]\n",
    "ab.shape"
   ]
  },
  {
   "cell_type": "code",
   "execution_count": 71,
   "metadata": {},
   "outputs": [],
   "source": [
    "ab[:,0] = ab[:,0] / numUCs[0];\n",
    "ab[:,1] = ab[:,1] / numUCs[1];"
   ]
  },
  {
   "cell_type": "code",
   "execution_count": 77,
   "metadata": {},
   "outputs": [],
   "source": [
    "Na = np.size(ab, axis=1)"
   ]
  },
  {
   "cell_type": "code",
   "execution_count": 114,
   "metadata": {},
   "outputs": [],
   "source": [
    "#outputs\n",
    "Na = np.size(ab, axis=1)\n",
    "atoms = np.array([ab, np.ones((Na,1))*0.25, np.ones((Na,1))*ID, np.ones((Na,1))*ID*u]);\n",
    "cellDim = np.array((numUCs*aG, cellSize[2]));"
   ]
  },
  {
   "cell_type": "code",
   "execution_count": 121,
   "metadata": {},
   "outputs": [
    {
     "data": {
      "text/plain": [
       "array([0., 0.])"
      ]
     },
     "execution_count": 121,
     "metadata": {},
     "output_type": "execute_result"
    }
   ],
   "source": [
    "ab[:,0]"
   ]
  },
  {
   "cell_type": "code",
   "execution_count": 104,
   "metadata": {},
   "outputs": [
    {
     "ename": "IndexError",
     "evalue": "too many indices for array",
     "output_type": "error",
     "traceback": [
      "\u001b[1;31m---------------------------------------------------------------------------\u001b[0m",
      "\u001b[1;31mIndexError\u001b[0m                                Traceback (most recent call last)",
      "\u001b[1;32m<ipython-input-104-457826466813>\u001b[0m in \u001b[0;36m<module>\u001b[1;34m\u001b[0m\n\u001b[0;32m      1\u001b[0m \u001b[0matoms2\u001b[0m \u001b[1;33m=\u001b[0m \u001b[0matoms\u001b[0m\u001b[1;33m.\u001b[0m\u001b[0mcopy\u001b[0m\u001b[1;33m(\u001b[0m\u001b[1;33m)\u001b[0m\u001b[1;33m;\u001b[0m\u001b[1;33m\u001b[0m\u001b[1;33m\u001b[0m\u001b[0m\n\u001b[1;32m----> 2\u001b[1;33m \u001b[0matoms2\u001b[0m\u001b[1;33m[\u001b[0m\u001b[1;36m0\u001b[0m\u001b[1;33m,\u001b[0m\u001b[1;33m:\u001b[0m\u001b[1;33m]\u001b[0m \u001b[1;33m=\u001b[0m \u001b[0matoms\u001b[0m\u001b[1;33m[\u001b[0m\u001b[1;33m:\u001b[0m\u001b[1;33m,\u001b[0m\u001b[1;36m0\u001b[0m\u001b[1;33m]\u001b[0m \u001b[1;33m+\u001b[0m \u001b[1;36m1\u001b[0m\u001b[1;33m/\u001b[0m\u001b[0mnumUCs\u001b[0m\u001b[1;33m[\u001b[0m\u001b[1;36m0\u001b[0m\u001b[1;33m]\u001b[0m\u001b[1;33m/\u001b[0m\u001b[1;36m3\u001b[0m\u001b[1;33m\u001b[0m\u001b[1;33m\u001b[0m\u001b[0m\n\u001b[0m\u001b[0;32m      3\u001b[0m \u001b[0matoms2\u001b[0m\u001b[1;33m[\u001b[0m\u001b[1;36m2\u001b[0m\u001b[1;33m,\u001b[0m\u001b[1;33m:\u001b[0m\u001b[1;33m]\u001b[0m \u001b[1;33m=\u001b[0m \u001b[1;36m0.75\u001b[0m\u001b[1;33m\u001b[0m\u001b[1;33m\u001b[0m\u001b[0m\n\u001b[0;32m      4\u001b[0m \u001b[0matoms\u001b[0m \u001b[1;33m=\u001b[0m \u001b[0mnp\u001b[0m\u001b[1;33m.\u001b[0m\u001b[0marray\u001b[0m\u001b[1;33m(\u001b[0m\u001b[1;33m[\u001b[0m\u001b[0matoms\u001b[0m\u001b[1;33m,\u001b[0m \u001b[0matoms2\u001b[0m\u001b[1;33m]\u001b[0m\u001b[1;33m)\u001b[0m\u001b[1;33m\u001b[0m\u001b[1;33m\u001b[0m\u001b[0m\n",
      "\u001b[1;31mIndexError\u001b[0m: too many indices for array"
     ]
    }
   ],
   "source": [
    "atoms2 = atoms.copy();\n",
    "atoms2[0,:] = atoms[:,0] + 1/numUCs[0]/3\n",
    "atoms2[2,:] = 0.75\n",
    "atoms = np.array([atoms, atoms2])"
   ]
  },
  {
   "cell_type": "code",
   "execution_count": null,
   "metadata": {},
   "outputs": [],
   "source": []
  },
  {
   "cell_type": "code",
   "execution_count": null,
   "metadata": {},
   "outputs": [],
   "source": []
  },
  {
   "cell_type": "code",
   "execution_count": null,
   "metadata": {},
   "outputs": [],
   "source": []
  },
  {
   "cell_type": "code",
   "execution_count": null,
   "metadata": {},
   "outputs": [],
   "source": []
  },
  {
   "cell_type": "code",
   "execution_count": null,
   "metadata": {},
   "outputs": [],
   "source": []
  },
  {
   "cell_type": "code",
   "execution_count": null,
   "metadata": {},
   "outputs": [],
   "source": []
  },
  {
   "cell_type": "code",
   "execution_count": null,
   "metadata": {},
   "outputs": [],
   "source": [
    "# #approximate field size in A\n",
    "# field = 25\n",
    "\n",
    "# # Single replacements\n",
    "# s = np.array([[4.3, 2.5, 5],[7.8, 6.1, 7],[4.3, 9.8, 8], [7.8, 13.5, 13], [4.3, 17.2, 14], [7.8, 20.9, 15]])\n",
    "\n",
    "# # Double replacements\n",
    "# d = np.array([[17.8, 2.5, 5],[19.9, 6.1, 7],[17.8, 9.8, 8],[19.9, 13.5, 13],[17.8, 17.2, 14],[19.9, 20.9, 15]])"
   ]
  },
  {
   "cell_type": "code",
   "execution_count": null,
   "metadata": {},
   "outputs": [],
   "source": []
  },
  {
   "cell_type": "code",
   "execution_count": null,
   "metadata": {},
   "outputs": [],
   "source": [
    "\n",
    "sub = atoms(:,4) == 6;\n",
    "scatter(atoms(sub,1),atoms(sub,2),'r.','sizedata',200)\n",
    "scatter(atoms(~sub,1),atoms(~sub,2),'b.','sizedata',400)\n",
    "line([0 cellDim(1)],[0 0],'linewidth',2,'color','k')\n",
    "line([0 cellDim(1)],[0 0]+cellDim(2),'linewidth',2,'color','k')\n",
    "line([0 0],[0 cellDim(2)],'linewidth',2,'color','k')\n",
    "line([0 0]+cellDim(1),[0 cellDim(2)],'linewidth',2,'color','k')\n",
    "hold off\n",
    "axis equal off\n"
   ]
  }
 ],
 "metadata": {
  "kernelspec": {
   "display_name": "Python 3",
   "language": "python",
   "name": "python3"
  },
  "language_info": {
   "codemirror_mode": {
    "name": "ipython",
    "version": 3
   },
   "file_extension": ".py",
   "mimetype": "text/x-python",
   "name": "python",
   "nbconvert_exporter": "python",
   "pygments_lexer": "ipython3",
   "version": "3.7.6"
  }
 },
 "nbformat": 4,
 "nbformat_minor": 4
}
