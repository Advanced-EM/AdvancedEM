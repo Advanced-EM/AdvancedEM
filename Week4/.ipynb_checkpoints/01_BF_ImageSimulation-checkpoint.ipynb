{
 "cells": [
  {
   "cell_type": "markdown",
   "metadata": {},
   "source": [
    "### BF image simulation\n",
    "\n",
    "\n",
    "**Roberto dos Reis**<br>\n",
    "Northwestern University\n",
    "\n",
    "- Simulate an BF image using the partial coherent imaging model using weak phase object approximation.\n",
    "\n",
    "- This script is based on [Kirkland's Advanced Computing in Electron Microscopy](https://www.springer.com/us/book/9781489995094#otherversion=9781441965325)\n"
   ]
  },
  {
   "cell_type": "markdown",
   "metadata": {},
   "source": [
    "### Loading Packages"
   ]
  },
  {
   "cell_type": "code",
   "execution_count": 1,
   "metadata": {},
   "outputs": [],
   "source": [
    "# Numeric operations\n",
    "import numpy as np\n",
    "\n",
    "# Visualization / Plotting\n",
    "import matplotlib\n",
    "from matplotlib import pyplot as plt\n",
    "from matplotlib.patches import Rectangle\n",
    "import plotly.express as px\n",
    "\n",
    "#to load .mat files\n",
    "from scipy.io import loadmat\n",
    "\n",
    "# Ensure that images are rendered in this notebook:\n",
    "%matplotlib inline"
   ]
  },
  {
   "cell_type": "code",
   "execution_count": 2,
   "metadata": {},
   "outputs": [],
   "source": [
    "## Enter the parameters"
   ]
  },
  {
   "cell_type": "code",
   "execution_count": 3,
   "metadata": {},
   "outputs": [
    {
     "name": "stdout",
     "output_type": "stream",
     "text": [
      "Simulate an BF image using the weak phase imaging model\n"
     ]
    }
   ],
   "source": [
    "print( 'Simulate an BF image using the weak phase imaging model' )\n",
    "kev = 200 #float(input('Type electron energy in keV :'))\n",
    "Cs= 1.3  #float(input('Type spherical aberation Cs in mm :'))\n",
    "df= 200 #float(input('Type defocus df in Angstroms :'))\n",
    "amax= 20 #float(input('Type objective aperture semiangle in mrad :'))\n",
    "ddf= 0  #float(input('Type chromatic aberation defocus spread in Angstroms :'))\n",
    "beta= 0.5 #float(input('Type spread in illumination angles in mrad :'))\n",
    "rmax = 1 #float(input('Type size of slice in Angstroms:'))\n",
    "nx = 64 #float(input('Type number of pixels in slice:'))"
   ]
  },
  {
   "cell_type": "markdown",
   "metadata": {},
   "source": [
    "### Loading structure file "
   ]
  },
  {
   "cell_type": "code",
   "execution_count": 20,
   "metadata": {},
   "outputs": [],
   "source": [
    "filename = 'Si_7x5.dat'\n",
    "M = np.loadtxt(filename, delimiter=',')"
   ]
  },
  {
   "cell_type": "code",
   "execution_count": 21,
   "metadata": {},
   "outputs": [
    {
     "data": {
      "text/plain": [
       "(280, 6)"
      ]
     },
     "execution_count": 21,
     "metadata": {},
     "output_type": "execute_result"
    }
   ],
   "source": [
    "M.shape"
   ]
  },
  {
   "cell_type": "code",
   "execution_count": 24,
   "metadata": {},
   "outputs": [
    {
     "data": {
      "text/plain": [
       "array([14., 14., 14., 14., 14., 14., 14., 14., 14., 14., 14., 14., 14.,\n",
       "       14., 14., 14., 14., 14., 14., 14., 14., 14., 14., 14., 14., 14.,\n",
       "       14., 14., 14., 14., 14., 14., 14., 14., 14., 14., 14., 14., 14.,\n",
       "       14., 14., 14., 14., 14., 14., 14., 14., 14., 14., 14., 14., 14.,\n",
       "       14., 14., 14., 14., 14., 14., 14., 14., 14., 14., 14., 14., 14.,\n",
       "       14., 14., 14., 14., 14., 14., 14., 14., 14., 14., 14., 14., 14.,\n",
       "       14., 14., 14., 14., 14., 14., 14., 14., 14., 14., 14., 14., 14.,\n",
       "       14., 14., 14., 14., 14., 14., 14., 14., 14., 14., 14., 14., 14.,\n",
       "       14., 14., 14., 14., 14., 14., 14., 14., 14., 14., 14., 14., 14.,\n",
       "       14., 14., 14., 14., 14., 14., 14., 14., 14., 14., 14., 14., 14.,\n",
       "       14., 14., 14., 14., 14., 14., 14., 14., 14., 14., 14., 14., 14.,\n",
       "       14., 14., 14., 14., 14., 14., 14., 14., 14., 14., 14., 14., 14.,\n",
       "       14., 14., 14., 14., 14., 14., 14., 14., 14., 14., 14., 14., 14.,\n",
       "       14., 14., 14., 14., 14., 14., 14., 14., 14., 14., 14., 14., 14.,\n",
       "       14., 14., 14., 14., 14., 14., 14., 14., 14., 14., 14., 14., 14.,\n",
       "       14., 14., 14., 14., 14., 14., 14., 14., 14., 14., 14., 14., 14.,\n",
       "       14., 14., 14., 14., 14., 14., 14., 14., 14., 14., 14., 14., 14.,\n",
       "       14., 14., 14., 14., 14., 14., 14., 14., 14., 14., 14., 14., 14.,\n",
       "       14., 14., 14., 14., 14., 14., 14., 14., 14., 14., 14., 14., 14.,\n",
       "       14., 14., 14., 14., 14., 14., 14., 14., 14., 14., 14., 14., 14.,\n",
       "       14., 14., 14., 14., 14., 14., 14., 14., 14., 14., 14., 14., 14.,\n",
       "       14., 14., 14., 14., 14., 14., 14.])"
      ]
     },
     "execution_count": 24,
     "metadata": {},
     "output_type": "execute_result"
    }
   ],
   "source": [
    "Znum = M[:,0]\n",
    "Znum"
   ]
  },
  {
   "cell_type": "code",
   "execution_count": null,
   "metadata": {},
   "outputs": [],
   "source": [
    "\n",
    "\n",
    "\n",
    "\n",
    "M.Znum(i)  = nline(1)\n",
    "    M.xpos(i)  = nline(2);\n",
    "      M.ypos(i)  = nline(3);\n",
    "      M.zpos(i)  = nline(4);\n",
    "      M.wt(i)    = nline(5);\n",
    "      M.tds(i)   = 0;"
   ]
  },
  {
   "cell_type": "markdown",
   "metadata": {},
   "source": [
    "## Calculating Potentials\n",
    "\n",
    "- This function Generates a Projected Potential suitable for TEM,  i.e intensity is proportional to Z^1/3\n",
    "- Usage: ``V = tempot(xmax,ymax,nx,ny,potfile)``\n",
    "\n",
    "- Inputs: \n",
    "    \n",
    "    (xmax, ymax) are the size of the field of view in angstroms, \n",
    "    \n",
    "    (nx, ny) are the number of pixels in the x and y directions "
   ]
  },
  {
   "cell_type": "code",
   "execution_count": 5,
   "metadata": {},
   "outputs": [],
   "source": [
    "nx = 64\n",
    "ny = 64\n",
    "xmax = 20\n",
    "ymax = 20"
   ]
  },
  {
   "cell_type": "code",
   "execution_count": 16,
   "metadata": {},
   "outputs": [],
   "source": [
    "zed = 0.67;  #zed=2 for rutherford scattering of the nucleus, less for screening\n",
    "ix = np.arange(1,nx+1)\n",
    "iy = np.arange(1,ny+1)\n",
    "\n",
    "dx = xmax/(nx-1);\n",
    "dy = ymax/(ny-1);\n",
    "\n",
    "# dx,dy\n",
    "# np.arange(0,(xmax-dx),dx)"
   ]
  },
  {
   "cell_type": "code",
   "execution_count": null,
   "metadata": {},
   "outputs": [],
   "source": []
  },
  {
   "cell_type": "code",
   "execution_count": null,
   "metadata": {},
   "outputs": [],
   "source": [
    "def tempot(xmax,ymax,nx,ny,potfile):\n",
    "    zed = 0.67;  # zed=2 for rutherford scattering of the nucleus, less for screening\n",
    "    ix = np.arange(1,nx+1)\n",
    "    iy = np.arange(1,ny+1)\n",
    "    \n",
    "    dx = xmax/(nx-1)\n",
    "    dy = ymax/(ny-1)\n",
    "    rx = np.arange(0,(xmax-dx),dx)\n",
    "    ry = np.arange(0,(ymax-dy),dy)\n",
    "    \n",
    "    Zatom = A.Znum\n",
    "    ax    = A.xpos\n",
    "    ay    = A.ypos\n",
    "    az    = A.zpos\n",
    "    wt    = A.wt\n",
    "    amax = length(Zatom)\n",
    "\n",
    "% find boundaries of slice\n",
    "axmin = min(ax);\n",
    "axmax = max(ax);\n",
    "aymin = min(ay);\n",
    "aymax = max(ay);\n",
    "% shift coords to fit in box\n",
    "ax = ax - axmin;\n",
    "ay = ay - aymin;\n",
    "\n",
    "\n",
    "V= zeros(nx,ny);\n",
    "\n",
    "% map x and y coords of the atoms to the nearest grid points\n",
    "% A fraction of the atom must be assigned to the closest gridpoints\n",
    "% to avoid sum and difference frequencies appearing in the image\n",
    "\n",
    "iax = max(1,min(floor( ax/dx)+1,nx));      % grid point to the left of the atom\n",
    "%jax = interp1( rx,ix,ax, 'linear');\n",
    "ibx = mod(iax,nx) + 1;      % create periodic boundary conditions\n",
    "\n",
    "fax = 1-mod( (ax /dx ),1 );  % fraction of atom at iax \n",
    "%fbx = 1 - fax;            % fraction of atom at (1-fax) is at iax+1\n",
    "\n",
    "iay = max(1,min(floor( ay/dy)+1,ny));      % grid point above the atom\n",
    "%jay = interp1( ry,iy,ay, 'linear');\n",
    "\n",
    "iby = mod(iay,ny) +1;          % create periodic boundary conditions\n",
    "\n",
    "fay = 1-mod( (ay /dy ),1 ); % fraction of atom at iay \n",
    "%fby = 1 - fay;            % fraction of atom at (1-fay) is at iay+1\n",
    "\n",
    "% Add each atom to the potential grid\n",
    "% j is too large to makegrid(iax,iay) which would allow us to vectorize V\n",
    "%\n",
    "\n",
    "V1 = fax .* fay .* (Zatom .^zed);\n",
    "V2 = (1-fax) .* fay .* (Zatom .^zed);\n",
    "V3 = fax .* (1-fay) .* (Zatom .^zed);\n",
    "V4 = (1-fax) .* (1-fay) .* (Zatom .^zed);\n",
    "\n",
    "for j=1:amax,\n",
    "   V(iax(j),iay(j)) = V(iax(j),iay(j)) + V1(j);\n",
    "   V(ibx(j),iay(j)) = V(ibx(j),iay(j)) + V2(j);\n",
    "   V(iax(j),iby(j)) = V(iax(j),iby(j)) + V3(j);\n",
    "   V(ibx(j),iby(j)) = V(ibx(j),iby(j)) + V4(j);\n",
    "end;"
   ]
  },
  {
   "cell_type": "code",
   "execution_count": null,
   "metadata": {},
   "outputs": [],
   "source": [
    "potfile = input('Type name of coordinates file(e.g. si7x5.xyz) : ','s');\n",
    "V = tempot(rmax,rmax,nx,nx,potfile)"
   ]
  },
  {
   "cell_type": "markdown",
   "metadata": {},
   "source": [
    "### Calculating Potentials\n",
    "\n",
    "- Projected potential function - using potentials from Kirkland\n",
    "\n",
    "- The electron and X-ray scattering factors for all neutral atoms with atomic numbers Z=2 through Z=103 were calculated using the relativistic Hartree-Fock program."
   ]
  },
  {
   "cell_type": "code",
   "execution_count": null,
   "metadata": {},
   "outputs": [],
   "source": [
    "fparams = loadmat('fparams.mat')\n",
    "fparams = fparams['fparams']\n",
    "fparams[0,:]"
   ]
  },
  {
   "cell_type": "code",
   "execution_count": null,
   "metadata": {},
   "outputs": [],
   "source": [
    "def projPot(atomID,xr,yr):\n",
    "    # Super sampling for potential integration (should be even!!)\n",
    "    ss = 8; \n",
    "    \n",
    "    #Get fparams file\n",
    "    fparams = loadmat('fparams.mat')\n",
    "    fparams = fparams['fparams']\n",
    "    \n",
    "    #Constants\n",
    "    a0 = 0.5292\n",
    "    e = 14.4\n",
    "    term1 = 4*np.pi**2*a0*e\n",
    "    term2 = 2*np.pi**2*a0*e\n",
    "    \n",
    "    #Make supersampled 2D grid for integration\n",
    "    dx = (xr(2) - xr(1))\n",
    "    dy = (yr(2) - yr(1))\n",
    "    sub = (-(ss-1)/ss/2):(1/ss):((ss-1)/ss/2)\n",
    "            [x1,x2] = meshgrid(xr,sub*dx)\n",
    "            xv = x1(:) + x2(:)\n",
    "            [y1,y2] = meshgrid(yr,sub*dy)\n",
    "    yv = y1(:) + y2(:);\n",
    "    [ya,xa] = meshgrid(yv,xv);\n",
    "    r2 = xa.^2 + ya.^2;\n",
    "    r = sqrt(r2);\n",
    "    \n",
    "    # Compute potential\n",
    "    ap = fparams(atomID,:);\n",
    "    potSS = term1*(ap(1)*besselk(0,2*pi*sqrt(ap(2))*r) + ap(3)*besselk(0,2*pi*sqrt(ap(4))*r) \n",
    "                   + ap(5)*besselk(0,2*pi*sqrt(ap(6))*r))\n",
    "                    + term2*(ap(7)/ap(8)*exp(-pi^2/ap(8)*r2) + ap(9)/ap(10)*exp(-pi^2/ap(10)*r2) + ap(11)/ap(12)*exp(-pi^2/ap(12)*r2));\n",
    "    #Integrate!\n",
    "    potMid = zeros(length(xr),length(yr)*ss)\n",
    "    \n",
    "    for a0 = 1:ss\n",
    "    potMid = potMid + potSS(a0:ss:(end+a0-ss),:);\n",
    "    end\n",
    "\n",
    "    pot = zeros(length(xr),length(yr));\n",
    "    \n",
    "    for a0 = 1:ss\n",
    "    pot = pot + potMid(:,a0:ss:(end+a0-ss));\n",
    "    end\n",
    "\n",
    "    pot = pot / ss^2;\n",
    "\n",
    "    #Cut off radius for potential (to remove edge discontinuities)\n",
    "    #pot = pot - potMin;\n",
    "    # pot(pot<0) = 0;\n",
    "    # Compute potMin from edge\n",
    "    \n",
    "    [~,xInd] = min(abs(xr))\n",
    "    [~,yInd] = min(abs(yr))\n",
    "    dx = round(sqrt(2*xInd-1))\n",
    "    dy = round(sqrt(2*yInd-1))\n",
    "    xv = [xInd-dx xInd+dx xInd-dx xInd+dx 1 1 length(xr) length(xr)]\n",
    "    yv = [1 1 length(yr) length(yr) yInd-dy yInd+dy yInd-dy yInd+dy]\n",
    "    potMin = max(pot(sub2ind(size(pot),xv,yv)))\n",
    "    pot = pot - potMin\n",
    "    pot(pot<0) = 0;\n",
    "\n",
    "return pot"
   ]
  },
  {
   "cell_type": "code",
   "execution_count": null,
   "metadata": {},
   "outputs": [],
   "source": []
  }
 ],
 "metadata": {
  "kernelspec": {
   "display_name": "Python 3",
   "language": "python",
   "name": "python3"
  },
  "language_info": {
   "codemirror_mode": {
    "name": "ipython",
    "version": 3
   },
   "file_extension": ".py",
   "mimetype": "text/x-python",
   "name": "python",
   "nbconvert_exporter": "python",
   "pygments_lexer": "ipython3",
   "version": "3.7.6"
  }
 },
 "nbformat": 4,
 "nbformat_minor": 4
}
